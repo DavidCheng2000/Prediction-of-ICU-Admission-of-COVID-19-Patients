{
  "nbformat": 4,
  "nbformat_minor": 0,
  "metadata": {
    "colab": {
      "name": "Final_Cheng_David (Xilin).ipynb",
      "provenance": [],
      "collapsed_sections": []
    },
    "kernelspec": {
      "name": "python3",
      "display_name": "Python 3"
    },
    "language_info": {
      "name": "python"
    }
  },
  "cells": [
    {
      "cell_type": "markdown",
      "metadata": {
        "id": "HLZ91mmvMQyl"
      },
      "source": [
        "## **Machine Learning Final Project DUE: Friday May 7th 11:59pm**\n",
        "\n",
        "**Note: Please read all the instructions carefully before starting the project.**\n",
        "\n",
        "For your final project you will build an ML model to analyze a dataset of your choice. You are welcome to keep working on the data in your EDA project if your data is large enough (at least 1000 rows for simple models and at least 10,000 for more complex models) or you can choose from the datasets/project suggestions below.\n",
        "\n",
        "In this project make sure that you:\n",
        "- Have a large enough dataset\n",
        "- Split your data in training and testing\n",
        "- Explore your data to inform which type of model to choose (no need if you are using your EDA dataset)\n",
        "- Try different models on your training dataset - then select the most promising model\n",
        "- Use cross validation to fine tune the model’s parameters such as alpha in lasso\n",
        "- Simplify your model using regularization, prunnning, drop-out, etc. to avoid overfitting\n",
        "- Communicate your model’s performance and make sure you compare it to a benchmark when appropriate\n",
        "- Plot interesting graphs and results\n",
        "- Write and publish your article to medium\n",
        "- Commit your code to your GitHub\n",
        "\n",
        "Please ensure you handle all the preprocessing before the modeling.\n",
        "\n",
        "Suggestions for project:\n",
        "You can take a look at the resources given below for choosing a dataset for your project. \n",
        "\n",
        "- Traffic sign detection - https://benchmark.ini.rub.de/gtsdb_dataset.html\n",
        "- Cat and dog classifier - https://www.kaggle.com/c/dogs-vs-cats/data\n",
        "- Other datasets from Kaggle - https://www.kaggle.com/data/41592"
      ]
    },
    {
      "cell_type": "markdown",
      "metadata": {
        "id": "mirWm3dBPv90"
      },
      "source": [
        "## **Grading Criteria**\n",
        "\n",
        "- Show clear exploration of the data to justify model choice\n",
        "- Train mutliple models and clearly articulate why you chose your final model\n",
        "- Show your performance on test dataset\n",
        "- Clear and concise write-up with clear well-documented figures\n",
        "- Commit your code to GitHub"
      ]
    },
    {
      "cell_type": "markdown",
      "metadata": {
        "id": "4ZRNqxFcP4wx"
      },
      "source": [
        "## **Submission Details**\n",
        "\n",
        "This is an individual assignment. You may not work in groups. The assignment is due on Friday (05/07/2021)\n",
        "- To submit your assignment, download your notebook and the dataset, zip the dataset and notebook, and submit the zipped file on blackboard.\n",
        "- Make sure the notebook is named in the format - Final_LastName_FirstName. If you are submitting a zipped file, please name the file as well in the same format.\n",
        "- Please include the link to access your blog and your github repo in your notebook.\n",
        "- Also include the link to your notebook, github repo and the blog in the submission on blackboard. Please ensure the TAs have the required access to your notebooks and the github repo.\n",
        "\n",
        "**Note - If the dataset is too large to be zipped and submitted on blackboard, only submit your notebook, add your dataset to your google drive and share a link to the file in your notebook.**"
      ]
    },
    {
      "cell_type": "code",
      "metadata": {
        "id": "ZzWRBLl6MImY"
      },
      "source": [
        "# Start solution here\n",
        "# Import packages\n",
        "import numpy as np\n",
        "import pandas as pd\n",
        "import matplotlib.pyplot as plt\n",
        "import seaborn as sb\n",
        "from sklearn.model_selection import train_test_split\n",
        "from sklearn import metrics\n",
        "from sklearn.dummy import DummyClassifier\n",
        "from sklearn.tree import DecisionTreeClassifier\n",
        "from sklearn import tree\n",
        "from sklearn.ensemble import BaggingClassifier\n",
        "from sklearn.ensemble import RandomForestClassifier\n",
        "from sklearn.ensemble import AdaBoostClassifier\n",
        "from sklearn.ensemble import VotingClassifier\n",
        "from sklearn.svm import SVC\n",
        "from sklearn.model_selection import RandomizedSearchCV"
      ],
      "execution_count": 63,
      "outputs": []
    },
    {
      "cell_type": "code",
      "metadata": {
        "colab": {
          "base_uri": "https://localhost:8080/"
        },
        "id": "P4BMoHW8hXGw",
        "outputId": "2ae2469b-0efe-438d-fd75-9e4068281bdd"
      },
      "source": [
        "# Read data\n",
        "pd.set_option('display.max_columns', 100)\n",
        "df = pd.read_excel(\"Kaggle_Sirio_Libanes_ICU_Prediction.xlsx\")\n",
        "print(df.shape)"
      ],
      "execution_count": 124,
      "outputs": [
        {
          "output_type": "stream",
          "text": [
            "(1925, 231)\n"
          ],
          "name": "stdout"
        }
      ]
    },
    {
      "cell_type": "code",
      "metadata": {
        "colab": {
          "base_uri": "https://localhost:8080/"
        },
        "id": "OrNOgwYR8ZjG",
        "outputId": "fcaf5bac-0f84-4d12-9006-20a65f59e705"
      },
      "source": [
        "# EDA\n",
        "# Patient Demographic Information\n",
        "# Number of patients\n",
        "print(df.PATIENT_VISIT_IDENTIFIER.unique().size)\n",
        "print(df.iloc[:, 0: 4].head())"
      ],
      "execution_count": 3,
      "outputs": [
        {
          "output_type": "stream",
          "text": [
            "385\n",
            "   PATIENT_VISIT_IDENTIFIER  AGE_ABOVE65 AGE_PERCENTIL  GENDER\n",
            "0                         0            1          60th       0\n",
            "1                         0            1          60th       0\n",
            "2                         0            1          60th       0\n",
            "3                         0            1          60th       0\n",
            "4                         0            1          60th       0\n"
          ],
          "name": "stdout"
        }
      ]
    },
    {
      "cell_type": "code",
      "metadata": {
        "colab": {
          "base_uri": "https://localhost:8080/"
        },
        "id": "up2y1x90JJJz",
        "outputId": "7937aa1f-cdb8-4622-d3c0-a4e711c158cd"
      },
      "source": [
        "# Patient previous grouped diseases\n",
        "print(df.iloc[:, 4:13].head())"
      ],
      "execution_count": 4,
      "outputs": [
        {
          "output_type": "stream",
          "text": [
            "   DISEASE GROUPING 1  DISEASE GROUPING 2  DISEASE GROUPING 3  \\\n",
            "0                 0.0                 0.0                 0.0   \n",
            "1                 0.0                 0.0                 0.0   \n",
            "2                 0.0                 0.0                 0.0   \n",
            "3                 0.0                 0.0                 0.0   \n",
            "4                 0.0                 0.0                 0.0   \n",
            "\n",
            "   DISEASE GROUPING 4  DISEASE GROUPING 5  DISEASE GROUPING 6  HTN  \\\n",
            "0                 0.0                 1.0                 1.0  0.0   \n",
            "1                 0.0                 1.0                 1.0  0.0   \n",
            "2                 0.0                 1.0                 1.0  0.0   \n",
            "3                 0.0                 1.0                 1.0  0.0   \n",
            "4                 0.0                 1.0                 1.0  0.0   \n",
            "\n",
            "   IMMUNOCOMPROMISED  OTHER  \n",
            "0                0.0    1.0  \n",
            "1                0.0    1.0  \n",
            "2                0.0    1.0  \n",
            "3                0.0    1.0  \n",
            "4                0.0    1.0  \n"
          ],
          "name": "stdout"
        }
      ]
    },
    {
      "cell_type": "code",
      "metadata": {
        "colab": {
          "base_uri": "https://localhost:8080/"
        },
        "id": "PQS8U8PRJjc6",
        "outputId": "24d969b1-e3b9-458e-a672-3239ab0c3f39"
      },
      "source": [
        "# Blood results\n",
        "print(df.iloc[:, 13:-8].head())"
      ],
      "execution_count": 5,
      "outputs": [
        {
          "output_type": "stream",
          "text": [
            "   ALBUMIN_MEDIAN  ALBUMIN_MEAN  ALBUMIN_MIN  ALBUMIN_MAX  ALBUMIN_DIFF  \\\n",
            "0             NaN           NaN          NaN          NaN           NaN   \n",
            "1             NaN           NaN          NaN          NaN           NaN   \n",
            "2        0.605263      0.605263     0.605263     0.605263          -1.0   \n",
            "3             NaN           NaN          NaN          NaN           NaN   \n",
            "4        0.000000      0.000000     0.000000     0.000000          -1.0   \n",
            "\n",
            "   BE_ARTERIAL_MEDIAN  BE_ARTERIAL_MEAN  BE_ARTERIAL_MIN  BE_ARTERIAL_MAX  \\\n",
            "0                 NaN               NaN              NaN              NaN   \n",
            "1                 NaN               NaN              NaN              NaN   \n",
            "2           -1.000000         -1.000000        -1.000000        -1.000000   \n",
            "3                 NaN               NaN              NaN              NaN   \n",
            "4           -0.871658         -0.871658        -0.871658        -0.871658   \n",
            "\n",
            "   BE_ARTERIAL_DIFF  BE_VENOUS_MEDIAN  BE_VENOUS_MEAN  BE_VENOUS_MIN  \\\n",
            "0               NaN               NaN             NaN            NaN   \n",
            "1               NaN               NaN             NaN            NaN   \n",
            "2              -1.0         -1.000000       -1.000000      -1.000000   \n",
            "3               NaN               NaN             NaN            NaN   \n",
            "4              -1.0         -0.863874       -0.863874      -0.863874   \n",
            "\n",
            "   BE_VENOUS_MAX  BE_VENOUS_DIFF  BIC_ARTERIAL_MEDIAN  BIC_ARTERIAL_MEAN  \\\n",
            "0            NaN             NaN                  NaN                NaN   \n",
            "1            NaN             NaN                  NaN                NaN   \n",
            "2      -1.000000            -1.0            -0.317073          -0.317073   \n",
            "3            NaN             NaN                  NaN                NaN   \n",
            "4      -0.863874            -1.0            -0.317073          -0.317073   \n",
            "\n",
            "   BIC_ARTERIAL_MIN  BIC_ARTERIAL_MAX  BIC_ARTERIAL_DIFF  BIC_VENOUS_MEDIAN  \\\n",
            "0               NaN               NaN                NaN                NaN   \n",
            "1               NaN               NaN                NaN                NaN   \n",
            "2         -0.317073         -0.317073               -1.0          -0.317073   \n",
            "3               NaN               NaN                NaN                NaN   \n",
            "4         -0.317073         -0.317073               -1.0          -0.414634   \n",
            "\n",
            "   BIC_VENOUS_MEAN  BIC_VENOUS_MIN  BIC_VENOUS_MAX  BIC_VENOUS_DIFF  \\\n",
            "0              NaN             NaN             NaN              NaN   \n",
            "1              NaN             NaN             NaN              NaN   \n",
            "2        -0.317073       -0.317073       -0.317073             -1.0   \n",
            "3              NaN             NaN             NaN              NaN   \n",
            "4        -0.414634       -0.414634       -0.414634             -1.0   \n",
            "\n",
            "   BILLIRUBIN_MEDIAN  BILLIRUBIN_MEAN  BILLIRUBIN_MIN  BILLIRUBIN_MAX  \\\n",
            "0                NaN              NaN             NaN             NaN   \n",
            "1                NaN              NaN             NaN             NaN   \n",
            "2          -0.938950        -0.938950       -0.938950       -0.938950   \n",
            "3                NaN              NaN             NaN             NaN   \n",
            "4          -0.979069        -0.979069       -0.979069       -0.979069   \n",
            "\n",
            "   BILLIRUBIN_DIFF  BLAST_MEDIAN  BLAST_MEAN  BLAST_MIN  BLAST_MAX  \\\n",
            "0              NaN           NaN         NaN        NaN        NaN   \n",
            "1              NaN           NaN         NaN        NaN        NaN   \n",
            "2             -1.0          -1.0        -1.0       -1.0       -1.0   \n",
            "3              NaN           NaN         NaN        NaN        NaN   \n",
            "4             -1.0          -1.0        -1.0       -1.0       -1.0   \n",
            "\n",
            "   BLAST_DIFF  CALCIUM_MEDIAN  CALCIUM_MEAN  CALCIUM_MIN  CALCIUM_MAX  \\\n",
            "0         NaN             NaN           NaN          NaN          NaN   \n",
            "1         NaN             NaN           NaN          NaN          NaN   \n",
            "2        -1.0        0.183673      0.183673     0.183673     0.183673   \n",
            "3         NaN             NaN           NaN          NaN          NaN   \n",
            "4        -1.0        0.326531      0.326531     0.326531     0.326531   \n",
            "\n",
            "   CALCIUM_DIFF  CREATININ_MEDIAN  CREATININ_MEAN  CREATININ_MIN  \\\n",
            "0           NaN               NaN             NaN            NaN   \n",
            "1           NaN               NaN             NaN            NaN   \n",
            "2          -1.0         -0.868365       -0.868365      -0.868365   \n",
            "3           NaN               NaN             NaN            NaN   \n",
            "4          -1.0         -0.926398       -0.926398      -0.926398   \n",
            "\n",
            "   CREATININ_MAX  CREATININ_DIFF  FFA_MEDIAN  FFA_MEAN   FFA_MIN   FFA_MAX  \\\n",
            "0            NaN             NaN         NaN       NaN       NaN       NaN   \n",
            "1            NaN             NaN         NaN       NaN       NaN       NaN   \n",
            "2      -0.868365            -1.0   -0.742004 -0.742004 -0.742004 -0.742004   \n",
            "3            NaN             NaN         NaN       NaN       NaN       NaN   \n",
            "4      -0.926398            -1.0   -0.859275 -0.859275 -0.859275 -0.859275   \n",
            "\n",
            "   FFA_DIFF  ...  TGP_MEDIAN  TGP_MEAN   TGP_MIN   TGP_MAX  TGP_DIFF  \\\n",
            "0       NaN  ...         NaN       NaN       NaN       NaN       NaN   \n",
            "1       NaN  ...         NaN       NaN       NaN       NaN       NaN   \n",
            "2      -1.0  ...   -0.990854 -0.990854 -0.990854 -0.990854      -1.0   \n",
            "3       NaN  ...         NaN       NaN       NaN       NaN       NaN   \n",
            "4      -1.0  ...   -0.983994 -0.983994 -0.983994 -0.983994      -1.0   \n",
            "\n",
            "   TTPA_MEDIAN  TTPA_MEAN  TTPA_MIN  TTPA_MAX  TTPA_DIFF  UREA_MEDIAN  \\\n",
            "0          NaN        NaN       NaN       NaN        NaN          NaN   \n",
            "1          NaN        NaN       NaN       NaN        NaN          NaN   \n",
            "2    -0.825613  -0.825613 -0.825613 -0.825613       -1.0    -0.836145   \n",
            "3          NaN        NaN       NaN       NaN        NaN          NaN   \n",
            "4    -0.846633  -0.846633 -0.846633 -0.846633       -1.0    -0.836145   \n",
            "\n",
            "   UREA_MEAN  UREA_MIN  UREA_MAX  UREA_DIFF  DIMER_MEDIAN  DIMER_MEAN  \\\n",
            "0        NaN       NaN       NaN        NaN           NaN         NaN   \n",
            "1        NaN       NaN       NaN        NaN           NaN         NaN   \n",
            "2  -0.836145 -0.836145 -0.836145       -1.0     -0.994912   -0.994912   \n",
            "3        NaN       NaN       NaN        NaN           NaN         NaN   \n",
            "4  -0.836145 -0.836145 -0.836145       -1.0     -0.996762   -0.996762   \n",
            "\n",
            "   DIMER_MIN  DIMER_MAX  DIMER_DIFF  BLOODPRESSURE_DIASTOLIC_MEAN  \\\n",
            "0        NaN        NaN         NaN                      0.086420   \n",
            "1        NaN        NaN         NaN                      0.333333   \n",
            "2  -0.994912  -0.994912        -1.0                           NaN   \n",
            "3        NaN        NaN         NaN                           NaN   \n",
            "4  -0.996762  -0.996762        -1.0                     -0.243021   \n",
            "\n",
            "   BLOODPRESSURE_SISTOLIC_MEAN  HEART_RATE_MEAN  RESPIRATORY_RATE_MEAN  \\\n",
            "0                    -0.230769        -0.283019              -0.593220   \n",
            "1                    -0.230769        -0.132075              -0.593220   \n",
            "2                          NaN              NaN                    NaN   \n",
            "3                          NaN              NaN                    NaN   \n",
            "4                    -0.338537        -0.213031              -0.317859   \n",
            "\n",
            "   TEMPERATURE_MEAN  OXYGEN_SATURATION_MEAN  BLOODPRESSURE_DIASTOLIC_MEDIAN  \\\n",
            "0         -0.285714                0.736842                        0.086420   \n",
            "1          0.535714                0.578947                        0.333333   \n",
            "2               NaN                     NaN                             NaN   \n",
            "3         -0.107143                0.736842                             NaN   \n",
            "4          0.033779                0.665932                       -0.283951   \n",
            "\n",
            "   BLOODPRESSURE_SISTOLIC_MEDIAN  HEART_RATE_MEDIAN  RESPIRATORY_RATE_MEDIAN  \\\n",
            "0                      -0.230769          -0.283019                -0.586207   \n",
            "1                      -0.230769          -0.132075                -0.586207   \n",
            "2                            NaN                NaN                      NaN   \n",
            "3                            NaN                NaN                      NaN   \n",
            "4                      -0.376923          -0.188679                -0.379310   \n",
            "\n",
            "   TEMPERATURE_MEDIAN  OXYGEN_SATURATION_MEDIAN  BLOODPRESSURE_DIASTOLIC_MIN  \\\n",
            "0           -0.285714                  0.736842                     0.237113   \n",
            "1            0.535714                  0.578947                     0.443299   \n",
            "2                 NaN                       NaN                          NaN   \n",
            "3           -0.107143                  0.736842                          NaN   \n",
            "4            0.035714                  0.631579                    -0.340206   \n",
            "\n",
            "   BLOODPRESSURE_SISTOLIC_MIN  HEART_RATE_MIN  RESPIRATORY_RATE_MIN  \\\n",
            "0                      0.0000       -0.162393             -0.500000   \n",
            "1                      0.0000       -0.025641             -0.500000   \n",
            "2                         NaN             NaN                   NaN   \n",
            "3                         NaN             NaN                   NaN   \n",
            "4                     -0.4875       -0.572650             -0.857143   \n",
            "\n",
            "   TEMPERATURE_MIN  OXYGEN_SATURATION_MIN  BLOODPRESSURE_DIASTOLIC_MAX  \\\n",
            "0         0.208791               0.898990                    -0.247863   \n",
            "1         0.714286               0.838384                    -0.076923   \n",
            "2              NaN                    NaN                          NaN   \n",
            "3         0.318681               0.898990                          NaN   \n",
            "4         0.098901               0.797980                    -0.076923   \n",
            "\n",
            "   BLOODPRESSURE_SISTOLIC_MAX  HEART_RATE_MAX  RESPIRATORY_RATE_MAX  \\\n",
            "0                   -0.459459       -0.432836             -0.636364   \n",
            "1                   -0.459459       -0.313433             -0.636364   \n",
            "2                         NaN             NaN                   NaN   \n",
            "3                         NaN             NaN                   NaN   \n",
            "4                    0.286486        0.298507              0.272727   \n",
            "\n",
            "   TEMPERATURE_MAX  OXYGEN_SATURATION_MAX  BLOODPRESSURE_DIASTOLIC_DIFF  \\\n",
            "0        -0.420290               0.736842                      -1.00000   \n",
            "1         0.246377               0.578947                      -1.00000   \n",
            "2              NaN                    NaN                           NaN   \n",
            "3        -0.275362               0.736842                           NaN   \n",
            "4         0.362319               0.947368                      -0.33913   \n",
            "\n",
            "   BLOODPRESSURE_SISTOLIC_DIFF  HEART_RATE_DIFF  RESPIRATORY_RATE_DIFF  \\\n",
            "0                    -1.000000        -1.000000              -1.000000   \n",
            "1                    -1.000000        -1.000000              -1.000000   \n",
            "2                          NaN              NaN                    NaN   \n",
            "3                          NaN              NaN                    NaN   \n",
            "4                     0.325153         0.114504               0.176471   \n",
            "\n",
            "   TEMPERATURE_DIFF  OXYGEN_SATURATION_DIFF  \n",
            "0         -1.000000               -1.000000  \n",
            "1         -1.000000               -1.000000  \n",
            "2               NaN                     NaN  \n",
            "3         -1.000000               -1.000000  \n",
            "4         -0.238095               -0.818182  \n",
            "\n",
            "[5 rows x 210 columns]\n"
          ],
          "name": "stdout"
        }
      ]
    },
    {
      "cell_type": "code",
      "metadata": {
        "colab": {
          "base_uri": "https://localhost:8080/"
        },
        "id": "cvzMO2vTKL8O",
        "outputId": "59196ecb-6381-4148-f4e7-89d63038a9ce"
      },
      "source": [
        "# Vital signs\n",
        "print(df.iloc[:, -8:-2].head())"
      ],
      "execution_count": 6,
      "outputs": [
        {
          "output_type": "stream",
          "text": [
            "   BLOODPRESSURE_DIASTOLIC_DIFF_REL  BLOODPRESSURE_SISTOLIC_DIFF_REL  \\\n",
            "0                         -1.000000                        -1.000000   \n",
            "1                         -1.000000                        -1.000000   \n",
            "2                               NaN                              NaN   \n",
            "3                               NaN                              NaN   \n",
            "4                         -0.389967                         0.407558   \n",
            "\n",
            "   HEART_RATE_DIFF_REL  RESPIRATORY_RATE_DIFF_REL  TEMPERATURE_DIFF_REL  \\\n",
            "0            -1.000000                  -1.000000             -1.000000   \n",
            "1            -1.000000                  -1.000000             -1.000000   \n",
            "2                  NaN                        NaN                   NaN   \n",
            "3                  NaN                        NaN             -1.000000   \n",
            "4            -0.230462                   0.096774             -0.242282   \n",
            "\n",
            "   OXYGEN_SATURATION_DIFF_REL  \n",
            "0                   -1.000000  \n",
            "1                   -1.000000  \n",
            "2                         NaN  \n",
            "3                   -1.000000  \n",
            "4                   -0.814433  \n"
          ],
          "name": "stdout"
        }
      ]
    },
    {
      "cell_type": "code",
      "metadata": {
        "colab": {
          "base_uri": "https://localhost:8080/"
        },
        "id": "gt2drPOhKeOO",
        "outputId": "be043a53-90b4-4525-e26f-7cb1fdd6da59"
      },
      "source": [
        "# WINDOW and ICU\n",
        "print(df.iloc[:, -2:].head())"
      ],
      "execution_count": 7,
      "outputs": [
        {
          "output_type": "stream",
          "text": [
            "     WINDOW  ICU\n",
            "0       0-2    0\n",
            "1       2-4    0\n",
            "2       4-6    0\n",
            "3      6-12    0\n",
            "4  ABOVE_12    1\n"
          ],
          "name": "stdout"
        }
      ]
    },
    {
      "cell_type": "code",
      "metadata": {
        "colab": {
          "base_uri": "https://localhost:8080/"
        },
        "id": "9thOdyVYMqeY",
        "outputId": "7b6123b1-cbff-42a7-d9fd-9407131ac292"
      },
      "source": [
        "# Explore missing values\n",
        "pd.set_option('display.max_rows', 232)\n",
        "print(\"Percentage of missing values for each column:\")\n",
        "print(1 - df.count()/df.shape[0])"
      ],
      "execution_count": 8,
      "outputs": [
        {
          "output_type": "stream",
          "text": [
            "Percentage of missing values for each column:\n",
            "PATIENT_VISIT_IDENTIFIER            0.000000\n",
            "AGE_ABOVE65                         0.000000\n",
            "AGE_PERCENTIL                       0.000000\n",
            "GENDER                              0.000000\n",
            "DISEASE GROUPING 1                  0.002597\n",
            "DISEASE GROUPING 2                  0.002597\n",
            "DISEASE GROUPING 3                  0.002597\n",
            "DISEASE GROUPING 4                  0.002597\n",
            "DISEASE GROUPING 5                  0.002597\n",
            "DISEASE GROUPING 6                  0.002597\n",
            "HTN                                 0.002597\n",
            "IMMUNOCOMPROMISED                   0.002597\n",
            "OTHER                               0.002597\n",
            "ALBUMIN_MEDIAN                      0.573506\n",
            "ALBUMIN_MEAN                        0.573506\n",
            "ALBUMIN_MIN                         0.573506\n",
            "ALBUMIN_MAX                         0.573506\n",
            "ALBUMIN_DIFF                        0.573506\n",
            "BE_ARTERIAL_MEDIAN                  0.573506\n",
            "BE_ARTERIAL_MEAN                    0.573506\n",
            "BE_ARTERIAL_MIN                     0.573506\n",
            "BE_ARTERIAL_MAX                     0.573506\n",
            "BE_ARTERIAL_DIFF                    0.573506\n",
            "BE_VENOUS_MEDIAN                    0.573506\n",
            "BE_VENOUS_MEAN                      0.573506\n",
            "BE_VENOUS_MIN                       0.573506\n",
            "BE_VENOUS_MAX                       0.573506\n",
            "BE_VENOUS_DIFF                      0.573506\n",
            "BIC_ARTERIAL_MEDIAN                 0.573506\n",
            "BIC_ARTERIAL_MEAN                   0.573506\n",
            "BIC_ARTERIAL_MIN                    0.573506\n",
            "BIC_ARTERIAL_MAX                    0.573506\n",
            "BIC_ARTERIAL_DIFF                   0.573506\n",
            "BIC_VENOUS_MEDIAN                   0.573506\n",
            "BIC_VENOUS_MEAN                     0.573506\n",
            "BIC_VENOUS_MIN                      0.573506\n",
            "BIC_VENOUS_MAX                      0.573506\n",
            "BIC_VENOUS_DIFF                     0.573506\n",
            "BILLIRUBIN_MEDIAN                   0.573506\n",
            "BILLIRUBIN_MEAN                     0.573506\n",
            "BILLIRUBIN_MIN                      0.573506\n",
            "BILLIRUBIN_MAX                      0.573506\n",
            "BILLIRUBIN_DIFF                     0.573506\n",
            "BLAST_MEDIAN                        0.573506\n",
            "BLAST_MEAN                          0.573506\n",
            "BLAST_MIN                           0.573506\n",
            "BLAST_MAX                           0.573506\n",
            "BLAST_DIFF                          0.573506\n",
            "CALCIUM_MEDIAN                      0.573506\n",
            "CALCIUM_MEAN                        0.573506\n",
            "CALCIUM_MIN                         0.573506\n",
            "CALCIUM_MAX                         0.573506\n",
            "CALCIUM_DIFF                        0.573506\n",
            "CREATININ_MEDIAN                    0.573506\n",
            "CREATININ_MEAN                      0.573506\n",
            "CREATININ_MIN                       0.573506\n",
            "CREATININ_MAX                       0.573506\n",
            "CREATININ_DIFF                      0.573506\n",
            "FFA_MEDIAN                          0.573506\n",
            "FFA_MEAN                            0.573506\n",
            "FFA_MIN                             0.573506\n",
            "FFA_MAX                             0.573506\n",
            "FFA_DIFF                            0.573506\n",
            "GGT_MEDIAN                          0.573506\n",
            "GGT_MEAN                            0.573506\n",
            "GGT_MIN                             0.573506\n",
            "GGT_MAX                             0.573506\n",
            "GGT_DIFF                            0.573506\n",
            "GLUCOSE_MEDIAN                      0.573506\n",
            "GLUCOSE_MEAN                        0.573506\n",
            "GLUCOSE_MIN                         0.573506\n",
            "GLUCOSE_MAX                         0.573506\n",
            "GLUCOSE_DIFF                        0.573506\n",
            "HEMATOCRITE_MEDIAN                  0.573506\n",
            "HEMATOCRITE_MEAN                    0.573506\n",
            "HEMATOCRITE_MIN                     0.573506\n",
            "HEMATOCRITE_MAX                     0.573506\n",
            "HEMATOCRITE_DIFF                    0.573506\n",
            "HEMOGLOBIN_MEDIAN                   0.573506\n",
            "HEMOGLOBIN_MEAN                     0.573506\n",
            "HEMOGLOBIN_MIN                      0.573506\n",
            "HEMOGLOBIN_MAX                      0.573506\n",
            "HEMOGLOBIN_DIFF                     0.573506\n",
            "INR_MEDIAN                          0.573506\n",
            "INR_MEAN                            0.573506\n",
            "INR_MIN                             0.573506\n",
            "INR_MAX                             0.573506\n",
            "INR_DIFF                            0.573506\n",
            "LACTATE_MEDIAN                      0.573506\n",
            "LACTATE_MEAN                        0.573506\n",
            "LACTATE_MIN                         0.573506\n",
            "LACTATE_MAX                         0.573506\n",
            "LACTATE_DIFF                        0.573506\n",
            "LEUKOCYTES_MEDIAN                   0.573506\n",
            "LEUKOCYTES_MEAN                     0.573506\n",
            "LEUKOCYTES_MIN                      0.573506\n",
            "LEUKOCYTES_MAX                      0.573506\n",
            "LEUKOCYTES_DIFF                     0.573506\n",
            "LINFOCITOS_MEDIAN                   0.573506\n",
            "LINFOCITOS_MEAN                     0.573506\n",
            "LINFOCITOS_MIN                      0.573506\n",
            "LINFOCITOS_MAX                      0.573506\n",
            "LINFOCITOS_DIFF                     0.573506\n",
            "NEUTROPHILES_MEDIAN                 0.573506\n",
            "NEUTROPHILES_MEAN                   0.573506\n",
            "NEUTROPHILES_MIN                    0.573506\n",
            "NEUTROPHILES_MAX                    0.573506\n",
            "NEUTROPHILES_DIFF                   0.573506\n",
            "P02_ARTERIAL_MEDIAN                 0.573506\n",
            "P02_ARTERIAL_MEAN                   0.573506\n",
            "P02_ARTERIAL_MIN                    0.573506\n",
            "P02_ARTERIAL_MAX                    0.573506\n",
            "P02_ARTERIAL_DIFF                   0.573506\n",
            "P02_VENOUS_MEDIAN                   0.573506\n",
            "P02_VENOUS_MEAN                     0.573506\n",
            "P02_VENOUS_MIN                      0.573506\n",
            "P02_VENOUS_MAX                      0.573506\n",
            "P02_VENOUS_DIFF                     0.573506\n",
            "PC02_ARTERIAL_MEDIAN                0.573506\n",
            "PC02_ARTERIAL_MEAN                  0.573506\n",
            "PC02_ARTERIAL_MIN                   0.573506\n",
            "PC02_ARTERIAL_MAX                   0.573506\n",
            "PC02_ARTERIAL_DIFF                  0.573506\n",
            "PC02_VENOUS_MEDIAN                  0.573506\n",
            "PC02_VENOUS_MEAN                    0.573506\n",
            "PC02_VENOUS_MIN                     0.573506\n",
            "PC02_VENOUS_MAX                     0.573506\n",
            "PC02_VENOUS_DIFF                    0.573506\n",
            "PCR_MEDIAN                          0.573506\n",
            "PCR_MEAN                            0.573506\n",
            "PCR_MIN                             0.573506\n",
            "PCR_MAX                             0.573506\n",
            "PCR_DIFF                            0.573506\n",
            "PH_ARTERIAL_MEDIAN                  0.573506\n",
            "PH_ARTERIAL_MEAN                    0.573506\n",
            "PH_ARTERIAL_MIN                     0.573506\n",
            "PH_ARTERIAL_MAX                     0.573506\n",
            "PH_ARTERIAL_DIFF                    0.573506\n",
            "PH_VENOUS_MEDIAN                    0.573506\n",
            "PH_VENOUS_MEAN                      0.573506\n",
            "PH_VENOUS_MIN                       0.573506\n",
            "PH_VENOUS_MAX                       0.573506\n",
            "PH_VENOUS_DIFF                      0.573506\n",
            "PLATELETS_MEDIAN                    0.573506\n",
            "PLATELETS_MEAN                      0.573506\n",
            "PLATELETS_MIN                       0.573506\n",
            "PLATELETS_MAX                       0.573506\n",
            "PLATELETS_DIFF                      0.573506\n",
            "POTASSIUM_MEDIAN                    0.573506\n",
            "POTASSIUM_MEAN                      0.573506\n",
            "POTASSIUM_MIN                       0.573506\n",
            "POTASSIUM_MAX                       0.573506\n",
            "POTASSIUM_DIFF                      0.573506\n",
            "SAT02_ARTERIAL_MEDIAN               0.573506\n",
            "SAT02_ARTERIAL_MEAN                 0.573506\n",
            "SAT02_ARTERIAL_MIN                  0.573506\n",
            "SAT02_ARTERIAL_MAX                  0.573506\n",
            "SAT02_ARTERIAL_DIFF                 0.573506\n",
            "SAT02_VENOUS_MEDIAN                 0.573506\n",
            "SAT02_VENOUS_MEAN                   0.573506\n",
            "SAT02_VENOUS_MIN                    0.573506\n",
            "SAT02_VENOUS_MAX                    0.573506\n",
            "SAT02_VENOUS_DIFF                   0.573506\n",
            "SODIUM_MEDIAN                       0.573506\n",
            "SODIUM_MEAN                         0.573506\n",
            "SODIUM_MIN                          0.573506\n",
            "SODIUM_MAX                          0.573506\n",
            "SODIUM_DIFF                         0.573506\n",
            "TGO_MEDIAN                          0.573506\n",
            "TGO_MEAN                            0.573506\n",
            "TGO_MIN                             0.573506\n",
            "TGO_MAX                             0.573506\n",
            "TGO_DIFF                            0.573506\n",
            "TGP_MEDIAN                          0.573506\n",
            "TGP_MEAN                            0.573506\n",
            "TGP_MIN                             0.573506\n",
            "TGP_MAX                             0.573506\n",
            "TGP_DIFF                            0.573506\n",
            "TTPA_MEDIAN                         0.573506\n",
            "TTPA_MEAN                           0.573506\n",
            "TTPA_MIN                            0.573506\n",
            "TTPA_MAX                            0.573506\n",
            "TTPA_DIFF                           0.573506\n",
            "UREA_MEDIAN                         0.573506\n",
            "UREA_MEAN                           0.573506\n",
            "UREA_MIN                            0.573506\n",
            "UREA_MAX                            0.573506\n",
            "UREA_DIFF                           0.573506\n",
            "DIMER_MEDIAN                        0.573506\n",
            "DIMER_MEAN                          0.573506\n",
            "DIMER_MIN                           0.573506\n",
            "DIMER_MAX                           0.573506\n",
            "DIMER_DIFF                          0.573506\n",
            "BLOODPRESSURE_DIASTOLIC_MEAN        0.355844\n",
            "BLOODPRESSURE_SISTOLIC_MEAN         0.355844\n",
            "HEART_RATE_MEAN                     0.355844\n",
            "RESPIRATORY_RATE_MEAN               0.388571\n",
            "TEMPERATURE_MEAN                    0.360519\n",
            "OXYGEN_SATURATION_MEAN              0.356364\n",
            "BLOODPRESSURE_DIASTOLIC_MEDIAN      0.355844\n",
            "BLOODPRESSURE_SISTOLIC_MEDIAN       0.355844\n",
            "HEART_RATE_MEDIAN                   0.355844\n",
            "RESPIRATORY_RATE_MEDIAN             0.388571\n",
            "TEMPERATURE_MEDIAN                  0.360519\n",
            "OXYGEN_SATURATION_MEDIAN            0.356364\n",
            "BLOODPRESSURE_DIASTOLIC_MIN         0.355844\n",
            "BLOODPRESSURE_SISTOLIC_MIN          0.355844\n",
            "HEART_RATE_MIN                      0.355844\n",
            "RESPIRATORY_RATE_MIN                0.388571\n",
            "TEMPERATURE_MIN                     0.360519\n",
            "OXYGEN_SATURATION_MIN               0.356364\n",
            "BLOODPRESSURE_DIASTOLIC_MAX         0.355844\n",
            "BLOODPRESSURE_SISTOLIC_MAX          0.355844\n",
            "HEART_RATE_MAX                      0.355844\n",
            "RESPIRATORY_RATE_MAX                0.388571\n",
            "TEMPERATURE_MAX                     0.360519\n",
            "OXYGEN_SATURATION_MAX               0.356364\n",
            "BLOODPRESSURE_DIASTOLIC_DIFF        0.355844\n",
            "BLOODPRESSURE_SISTOLIC_DIFF         0.355844\n",
            "HEART_RATE_DIFF                     0.355844\n",
            "RESPIRATORY_RATE_DIFF               0.388571\n",
            "TEMPERATURE_DIFF                    0.360519\n",
            "OXYGEN_SATURATION_DIFF              0.356364\n",
            "BLOODPRESSURE_DIASTOLIC_DIFF_REL    0.355844\n",
            "BLOODPRESSURE_SISTOLIC_DIFF_REL     0.355844\n",
            "HEART_RATE_DIFF_REL                 0.355844\n",
            "RESPIRATORY_RATE_DIFF_REL           0.388571\n",
            "TEMPERATURE_DIFF_REL                0.360519\n",
            "OXYGEN_SATURATION_DIFF_REL          0.356364\n",
            "WINDOW                              0.000000\n",
            "ICU                                 0.000000\n",
            "dtype: float64\n"
          ],
          "name": "stdout"
        }
      ]
    },
    {
      "cell_type": "code",
      "metadata": {
        "colab": {
          "base_uri": "https://localhost:8080/"
        },
        "id": "gYr7ZnpJQVrP",
        "outputId": "c80221a1-1c7b-4b15-ca1a-73cf479f9e11"
      },
      "source": [
        "# Fill missing value\n",
        "pd.options.mode.chained_assignment = None\n",
        "df1 = pd.DataFrame()\n",
        "for i in df.PATIENT_VISIT_IDENTIFIER.unique():\n",
        "  patient = df[df.PATIENT_VISIT_IDENTIFIER == i]\n",
        "  patient.fillna(method='ffill', inplace = True)\n",
        "  patient.fillna(method='bfill', inplace = True)\n",
        "  df1 = df1.append(patient)\n",
        "df1.isna().all() # Check remaining null value"
      ],
      "execution_count": 9,
      "outputs": [
        {
          "output_type": "execute_result",
          "data": {
            "text/plain": [
              "PATIENT_VISIT_IDENTIFIER            False\n",
              "AGE_ABOVE65                         False\n",
              "AGE_PERCENTIL                       False\n",
              "GENDER                              False\n",
              "DISEASE GROUPING 1                  False\n",
              "DISEASE GROUPING 2                  False\n",
              "DISEASE GROUPING 3                  False\n",
              "DISEASE GROUPING 4                  False\n",
              "DISEASE GROUPING 5                  False\n",
              "DISEASE GROUPING 6                  False\n",
              "HTN                                 False\n",
              "IMMUNOCOMPROMISED                   False\n",
              "OTHER                               False\n",
              "ALBUMIN_MEDIAN                      False\n",
              "ALBUMIN_MEAN                        False\n",
              "ALBUMIN_MIN                         False\n",
              "ALBUMIN_MAX                         False\n",
              "ALBUMIN_DIFF                        False\n",
              "BE_ARTERIAL_MEDIAN                  False\n",
              "BE_ARTERIAL_MEAN                    False\n",
              "BE_ARTERIAL_MIN                     False\n",
              "BE_ARTERIAL_MAX                     False\n",
              "BE_ARTERIAL_DIFF                    False\n",
              "BE_VENOUS_MEDIAN                    False\n",
              "BE_VENOUS_MEAN                      False\n",
              "BE_VENOUS_MIN                       False\n",
              "BE_VENOUS_MAX                       False\n",
              "BE_VENOUS_DIFF                      False\n",
              "BIC_ARTERIAL_MEDIAN                 False\n",
              "BIC_ARTERIAL_MEAN                   False\n",
              "BIC_ARTERIAL_MIN                    False\n",
              "BIC_ARTERIAL_MAX                    False\n",
              "BIC_ARTERIAL_DIFF                   False\n",
              "BIC_VENOUS_MEDIAN                   False\n",
              "BIC_VENOUS_MEAN                     False\n",
              "BIC_VENOUS_MIN                      False\n",
              "BIC_VENOUS_MAX                      False\n",
              "BIC_VENOUS_DIFF                     False\n",
              "BILLIRUBIN_MEDIAN                   False\n",
              "BILLIRUBIN_MEAN                     False\n",
              "BILLIRUBIN_MIN                      False\n",
              "BILLIRUBIN_MAX                      False\n",
              "BILLIRUBIN_DIFF                     False\n",
              "BLAST_MEDIAN                        False\n",
              "BLAST_MEAN                          False\n",
              "BLAST_MIN                           False\n",
              "BLAST_MAX                           False\n",
              "BLAST_DIFF                          False\n",
              "CALCIUM_MEDIAN                      False\n",
              "CALCIUM_MEAN                        False\n",
              "CALCIUM_MIN                         False\n",
              "CALCIUM_MAX                         False\n",
              "CALCIUM_DIFF                        False\n",
              "CREATININ_MEDIAN                    False\n",
              "CREATININ_MEAN                      False\n",
              "CREATININ_MIN                       False\n",
              "CREATININ_MAX                       False\n",
              "CREATININ_DIFF                      False\n",
              "FFA_MEDIAN                          False\n",
              "FFA_MEAN                            False\n",
              "FFA_MIN                             False\n",
              "FFA_MAX                             False\n",
              "FFA_DIFF                            False\n",
              "GGT_MEDIAN                          False\n",
              "GGT_MEAN                            False\n",
              "GGT_MIN                             False\n",
              "GGT_MAX                             False\n",
              "GGT_DIFF                            False\n",
              "GLUCOSE_MEDIAN                      False\n",
              "GLUCOSE_MEAN                        False\n",
              "GLUCOSE_MIN                         False\n",
              "GLUCOSE_MAX                         False\n",
              "GLUCOSE_DIFF                        False\n",
              "HEMATOCRITE_MEDIAN                  False\n",
              "HEMATOCRITE_MEAN                    False\n",
              "HEMATOCRITE_MIN                     False\n",
              "HEMATOCRITE_MAX                     False\n",
              "HEMATOCRITE_DIFF                    False\n",
              "HEMOGLOBIN_MEDIAN                   False\n",
              "HEMOGLOBIN_MEAN                     False\n",
              "HEMOGLOBIN_MIN                      False\n",
              "HEMOGLOBIN_MAX                      False\n",
              "HEMOGLOBIN_DIFF                     False\n",
              "INR_MEDIAN                          False\n",
              "INR_MEAN                            False\n",
              "INR_MIN                             False\n",
              "INR_MAX                             False\n",
              "INR_DIFF                            False\n",
              "LACTATE_MEDIAN                      False\n",
              "LACTATE_MEAN                        False\n",
              "LACTATE_MIN                         False\n",
              "LACTATE_MAX                         False\n",
              "LACTATE_DIFF                        False\n",
              "LEUKOCYTES_MEDIAN                   False\n",
              "LEUKOCYTES_MEAN                     False\n",
              "LEUKOCYTES_MIN                      False\n",
              "LEUKOCYTES_MAX                      False\n",
              "LEUKOCYTES_DIFF                     False\n",
              "LINFOCITOS_MEDIAN                   False\n",
              "LINFOCITOS_MEAN                     False\n",
              "LINFOCITOS_MIN                      False\n",
              "LINFOCITOS_MAX                      False\n",
              "LINFOCITOS_DIFF                     False\n",
              "NEUTROPHILES_MEDIAN                 False\n",
              "NEUTROPHILES_MEAN                   False\n",
              "NEUTROPHILES_MIN                    False\n",
              "NEUTROPHILES_MAX                    False\n",
              "NEUTROPHILES_DIFF                   False\n",
              "P02_ARTERIAL_MEDIAN                 False\n",
              "P02_ARTERIAL_MEAN                   False\n",
              "P02_ARTERIAL_MIN                    False\n",
              "P02_ARTERIAL_MAX                    False\n",
              "P02_ARTERIAL_DIFF                   False\n",
              "P02_VENOUS_MEDIAN                   False\n",
              "P02_VENOUS_MEAN                     False\n",
              "P02_VENOUS_MIN                      False\n",
              "P02_VENOUS_MAX                      False\n",
              "P02_VENOUS_DIFF                     False\n",
              "PC02_ARTERIAL_MEDIAN                False\n",
              "PC02_ARTERIAL_MEAN                  False\n",
              "PC02_ARTERIAL_MIN                   False\n",
              "PC02_ARTERIAL_MAX                   False\n",
              "PC02_ARTERIAL_DIFF                  False\n",
              "PC02_VENOUS_MEDIAN                  False\n",
              "PC02_VENOUS_MEAN                    False\n",
              "PC02_VENOUS_MIN                     False\n",
              "PC02_VENOUS_MAX                     False\n",
              "PC02_VENOUS_DIFF                    False\n",
              "PCR_MEDIAN                          False\n",
              "PCR_MEAN                            False\n",
              "PCR_MIN                             False\n",
              "PCR_MAX                             False\n",
              "PCR_DIFF                            False\n",
              "PH_ARTERIAL_MEDIAN                  False\n",
              "PH_ARTERIAL_MEAN                    False\n",
              "PH_ARTERIAL_MIN                     False\n",
              "PH_ARTERIAL_MAX                     False\n",
              "PH_ARTERIAL_DIFF                    False\n",
              "PH_VENOUS_MEDIAN                    False\n",
              "PH_VENOUS_MEAN                      False\n",
              "PH_VENOUS_MIN                       False\n",
              "PH_VENOUS_MAX                       False\n",
              "PH_VENOUS_DIFF                      False\n",
              "PLATELETS_MEDIAN                    False\n",
              "PLATELETS_MEAN                      False\n",
              "PLATELETS_MIN                       False\n",
              "PLATELETS_MAX                       False\n",
              "PLATELETS_DIFF                      False\n",
              "POTASSIUM_MEDIAN                    False\n",
              "POTASSIUM_MEAN                      False\n",
              "POTASSIUM_MIN                       False\n",
              "POTASSIUM_MAX                       False\n",
              "POTASSIUM_DIFF                      False\n",
              "SAT02_ARTERIAL_MEDIAN               False\n",
              "SAT02_ARTERIAL_MEAN                 False\n",
              "SAT02_ARTERIAL_MIN                  False\n",
              "SAT02_ARTERIAL_MAX                  False\n",
              "SAT02_ARTERIAL_DIFF                 False\n",
              "SAT02_VENOUS_MEDIAN                 False\n",
              "SAT02_VENOUS_MEAN                   False\n",
              "SAT02_VENOUS_MIN                    False\n",
              "SAT02_VENOUS_MAX                    False\n",
              "SAT02_VENOUS_DIFF                   False\n",
              "SODIUM_MEDIAN                       False\n",
              "SODIUM_MEAN                         False\n",
              "SODIUM_MIN                          False\n",
              "SODIUM_MAX                          False\n",
              "SODIUM_DIFF                         False\n",
              "TGO_MEDIAN                          False\n",
              "TGO_MEAN                            False\n",
              "TGO_MIN                             False\n",
              "TGO_MAX                             False\n",
              "TGO_DIFF                            False\n",
              "TGP_MEDIAN                          False\n",
              "TGP_MEAN                            False\n",
              "TGP_MIN                             False\n",
              "TGP_MAX                             False\n",
              "TGP_DIFF                            False\n",
              "TTPA_MEDIAN                         False\n",
              "TTPA_MEAN                           False\n",
              "TTPA_MIN                            False\n",
              "TTPA_MAX                            False\n",
              "TTPA_DIFF                           False\n",
              "UREA_MEDIAN                         False\n",
              "UREA_MEAN                           False\n",
              "UREA_MIN                            False\n",
              "UREA_MAX                            False\n",
              "UREA_DIFF                           False\n",
              "DIMER_MEDIAN                        False\n",
              "DIMER_MEAN                          False\n",
              "DIMER_MIN                           False\n",
              "DIMER_MAX                           False\n",
              "DIMER_DIFF                          False\n",
              "BLOODPRESSURE_DIASTOLIC_MEAN        False\n",
              "BLOODPRESSURE_SISTOLIC_MEAN         False\n",
              "HEART_RATE_MEAN                     False\n",
              "RESPIRATORY_RATE_MEAN               False\n",
              "TEMPERATURE_MEAN                    False\n",
              "OXYGEN_SATURATION_MEAN              False\n",
              "BLOODPRESSURE_DIASTOLIC_MEDIAN      False\n",
              "BLOODPRESSURE_SISTOLIC_MEDIAN       False\n",
              "HEART_RATE_MEDIAN                   False\n",
              "RESPIRATORY_RATE_MEDIAN             False\n",
              "TEMPERATURE_MEDIAN                  False\n",
              "OXYGEN_SATURATION_MEDIAN            False\n",
              "BLOODPRESSURE_DIASTOLIC_MIN         False\n",
              "BLOODPRESSURE_SISTOLIC_MIN          False\n",
              "HEART_RATE_MIN                      False\n",
              "RESPIRATORY_RATE_MIN                False\n",
              "TEMPERATURE_MIN                     False\n",
              "OXYGEN_SATURATION_MIN               False\n",
              "BLOODPRESSURE_DIASTOLIC_MAX         False\n",
              "BLOODPRESSURE_SISTOLIC_MAX          False\n",
              "HEART_RATE_MAX                      False\n",
              "RESPIRATORY_RATE_MAX                False\n",
              "TEMPERATURE_MAX                     False\n",
              "OXYGEN_SATURATION_MAX               False\n",
              "BLOODPRESSURE_DIASTOLIC_DIFF        False\n",
              "BLOODPRESSURE_SISTOLIC_DIFF         False\n",
              "HEART_RATE_DIFF                     False\n",
              "RESPIRATORY_RATE_DIFF               False\n",
              "TEMPERATURE_DIFF                    False\n",
              "OXYGEN_SATURATION_DIFF              False\n",
              "BLOODPRESSURE_DIASTOLIC_DIFF_REL    False\n",
              "BLOODPRESSURE_SISTOLIC_DIFF_REL     False\n",
              "HEART_RATE_DIFF_REL                 False\n",
              "RESPIRATORY_RATE_DIFF_REL           False\n",
              "TEMPERATURE_DIFF_REL                False\n",
              "OXYGEN_SATURATION_DIFF_REL          False\n",
              "WINDOW                              False\n",
              "ICU                                 False\n",
              "dtype: bool"
            ]
          },
          "metadata": {
            "tags": []
          },
          "execution_count": 9
        }
      ]
    },
    {
      "cell_type": "code",
      "metadata": {
        "colab": {
          "base_uri": "https://localhost:8080/"
        },
        "id": "jZO_ItzMvjZV",
        "outputId": "ca2c3e99-483c-4427-e162-d1d887d66eef"
      },
      "source": [
        "# Get information on each patient's ICU status\n",
        "ICU_result = (df1.groupby(\"PATIENT_VISIT_IDENTIFIER\").sum().ICU > 0).reset_index() * 1 # convert ICU into 1 or 0\n",
        "ICU_result.set_index(\"PATIENT_VISIT_IDENTIFIER\", inplace = True) # Set index \"PATIENT_VISIT_IDENTIFIER\" to facilitate joining with df\n",
        "print(ICU_result)"
      ],
      "execution_count": 10,
      "outputs": [
        {
          "output_type": "stream",
          "text": [
            "                          ICU\n",
            "PATIENT_VISIT_IDENTIFIER     \n",
            "0                           1\n",
            "1                           1\n",
            "2                           1\n",
            "3                           0\n",
            "4                           0\n",
            "...                       ...\n",
            "380                         1\n",
            "381                         0\n",
            "382                         1\n",
            "383                         0\n",
            "384                         0\n",
            "\n",
            "[385 rows x 1 columns]\n"
          ],
          "name": "stdout"
        }
      ]
    },
    {
      "cell_type": "code",
      "metadata": {
        "id": "O81_tZL3xOcX"
      },
      "source": [
        "# Join ICU_admitted with df\n",
        "df2 = df1.join(ICU_result, on = 'PATIENT_VISIT_IDENTIFIER', rsuffix ='_result')"
      ],
      "execution_count": 11,
      "outputs": []
    },
    {
      "cell_type": "code",
      "metadata": {
        "colab": {
          "base_uri": "https://localhost:8080/",
          "height": 296
        },
        "id": "_NR7FBE9H9qM",
        "outputId": "d708b062-ecac-4570-c792-25d6bc67afcb"
      },
      "source": [
        "# Explore the proportion of patients who need and don't need ICU care\n",
        "plt.figure()\n",
        "plt.title(\"Patiens who eventually need / don't need ICU care\")\n",
        "sb.countplot(x = \"ICU_result\", data = df2)\n",
        "plt.show()"
      ],
      "execution_count": 53,
      "outputs": [
        {
          "output_type": "display_data",
          "data": {
            "image/png": "[encoded data removed]",
            "text/plain": [
              "<Figure size 432x288 with 1 Axes>"
            ]
          },
          "metadata": {
            "tags": [],
            "needs_background": "light"
          }
        }
      ]
    },
    {
      "cell_type": "code",
      "metadata": {
        "colab": {
          "base_uri": "https://localhost:8080/"
        },
        "id": "LuyZj1dc3oGJ",
        "outputId": "6a354cfc-e2b7-432e-bfd9-8ff7d7eef8da"
      },
      "source": [
        "# Drop the data where the patient has already be sent to ICU\n",
        "df3 = df2[df2.ICU != 1]\n",
        "\n",
        "print(df3.head())"
      ],
      "execution_count": 12,
      "outputs": [
        {
          "output_type": "stream",
          "text": [
            "    PATIENT_VISIT_IDENTIFIER  AGE_ABOVE65 AGE_PERCENTIL  GENDER  \\\n",
            "0                          0            1          60th       0   \n",
            "1                          0            1          60th       0   \n",
            "2                          0            1          60th       0   \n",
            "3                          0            1          60th       0   \n",
            "10                         2            0          10th       0   \n",
            "\n",
            "    DISEASE GROUPING 1  DISEASE GROUPING 2  DISEASE GROUPING 3  \\\n",
            "0                  0.0                 0.0                 0.0   \n",
            "1                  0.0                 0.0                 0.0   \n",
            "2                  0.0                 0.0                 0.0   \n",
            "3                  0.0                 0.0                 0.0   \n",
            "10                 0.0                 0.0                 0.0   \n",
            "\n",
            "    DISEASE GROUPING 4  DISEASE GROUPING 5  DISEASE GROUPING 6  HTN  \\\n",
            "0                  0.0                 1.0                 1.0  0.0   \n",
            "1                  0.0                 1.0                 1.0  0.0   \n",
            "2                  0.0                 1.0                 1.0  0.0   \n",
            "3                  0.0                 1.0                 1.0  0.0   \n",
            "10                 0.0                 0.0                 0.0  0.0   \n",
            "\n",
            "    IMMUNOCOMPROMISED  OTHER  ALBUMIN_MEDIAN  ALBUMIN_MEAN  ALBUMIN_MIN  \\\n",
            "0                 0.0    1.0        0.605263      0.605263     0.605263   \n",
            "1                 0.0    1.0        0.605263      0.605263     0.605263   \n",
            "2                 0.0    1.0        0.605263      0.605263     0.605263   \n",
            "3                 0.0    1.0        0.605263      0.605263     0.605263   \n",
            "10                0.0    1.0        0.605263      0.605263     0.605263   \n",
            "\n",
            "    ALBUMIN_MAX  ALBUMIN_DIFF  BE_ARTERIAL_MEDIAN  BE_ARTERIAL_MEAN  \\\n",
            "0      0.605263          -1.0                -1.0              -1.0   \n",
            "1      0.605263          -1.0                -1.0              -1.0   \n",
            "2      0.605263          -1.0                -1.0              -1.0   \n",
            "3      0.605263          -1.0                -1.0              -1.0   \n",
            "10     0.605263          -1.0                -1.0              -1.0   \n",
            "\n",
            "    BE_ARTERIAL_MIN  BE_ARTERIAL_MAX  BE_ARTERIAL_DIFF  BE_VENOUS_MEDIAN  \\\n",
            "0              -1.0             -1.0              -1.0              -1.0   \n",
            "1              -1.0             -1.0              -1.0              -1.0   \n",
            "2              -1.0             -1.0              -1.0              -1.0   \n",
            "3              -1.0             -1.0              -1.0              -1.0   \n",
            "10             -1.0             -1.0              -1.0              -1.0   \n",
            "\n",
            "    BE_VENOUS_MEAN  BE_VENOUS_MIN  BE_VENOUS_MAX  BE_VENOUS_DIFF  \\\n",
            "0             -1.0           -1.0           -1.0            -1.0   \n",
            "1             -1.0           -1.0           -1.0            -1.0   \n",
            "2             -1.0           -1.0           -1.0            -1.0   \n",
            "3             -1.0           -1.0           -1.0            -1.0   \n",
            "10            -1.0           -1.0           -1.0            -1.0   \n",
            "\n",
            "    BIC_ARTERIAL_MEDIAN  BIC_ARTERIAL_MEAN  BIC_ARTERIAL_MIN  \\\n",
            "0             -0.317073          -0.317073         -0.317073   \n",
            "1             -0.317073          -0.317073         -0.317073   \n",
            "2             -0.317073          -0.317073         -0.317073   \n",
            "3             -0.317073          -0.317073         -0.317073   \n",
            "10            -0.317073          -0.317073         -0.317073   \n",
            "\n",
            "    BIC_ARTERIAL_MAX  BIC_ARTERIAL_DIFF  BIC_VENOUS_MEDIAN  BIC_VENOUS_MEAN  \\\n",
            "0          -0.317073               -1.0          -0.317073        -0.317073   \n",
            "1          -0.317073               -1.0          -0.317073        -0.317073   \n",
            "2          -0.317073               -1.0          -0.317073        -0.317073   \n",
            "3          -0.317073               -1.0          -0.317073        -0.317073   \n",
            "10         -0.317073               -1.0          -0.317073        -0.317073   \n",
            "\n",
            "    BIC_VENOUS_MIN  BIC_VENOUS_MAX  BIC_VENOUS_DIFF  BILLIRUBIN_MEDIAN  \\\n",
            "0        -0.317073       -0.317073             -1.0           -0.93895   \n",
            "1        -0.317073       -0.317073             -1.0           -0.93895   \n",
            "2        -0.317073       -0.317073             -1.0           -0.93895   \n",
            "3        -0.317073       -0.317073             -1.0           -0.93895   \n",
            "10       -0.317073       -0.317073             -1.0           -0.93895   \n",
            "\n",
            "    BILLIRUBIN_MEAN  BILLIRUBIN_MIN  BILLIRUBIN_MAX  BILLIRUBIN_DIFF  \\\n",
            "0          -0.93895        -0.93895        -0.93895             -1.0   \n",
            "1          -0.93895        -0.93895        -0.93895             -1.0   \n",
            "2          -0.93895        -0.93895        -0.93895             -1.0   \n",
            "3          -0.93895        -0.93895        -0.93895             -1.0   \n",
            "10         -0.93895        -0.93895        -0.93895             -1.0   \n",
            "\n",
            "    BLAST_MEDIAN  BLAST_MEAN  BLAST_MIN  BLAST_MAX  BLAST_DIFF  \\\n",
            "0           -1.0        -1.0       -1.0       -1.0        -1.0   \n",
            "1           -1.0        -1.0       -1.0       -1.0        -1.0   \n",
            "2           -1.0        -1.0       -1.0       -1.0        -1.0   \n",
            "3           -1.0        -1.0       -1.0       -1.0        -1.0   \n",
            "10          -1.0        -1.0       -1.0       -1.0        -1.0   \n",
            "\n",
            "    CALCIUM_MEDIAN  CALCIUM_MEAN  ...  TTPA_DIFF  UREA_MEDIAN  UREA_MEAN  \\\n",
            "0         0.183673      0.183673  ...       -1.0    -0.836145  -0.836145   \n",
            "1         0.183673      0.183673  ...       -1.0    -0.836145  -0.836145   \n",
            "2         0.183673      0.183673  ...       -1.0    -0.836145  -0.836145   \n",
            "3         0.183673      0.183673  ...       -1.0    -0.836145  -0.836145   \n",
            "10        0.357143      0.357143  ...       -1.0    -0.836145  -0.836145   \n",
            "\n",
            "    UREA_MIN  UREA_MAX  UREA_DIFF  DIMER_MEDIAN  DIMER_MEAN  DIMER_MIN  \\\n",
            "0  -0.836145 -0.836145       -1.0     -0.994912   -0.994912  -0.994912   \n",
            "1  -0.836145 -0.836145       -1.0     -0.994912   -0.994912  -0.994912   \n",
            "2  -0.836145 -0.836145       -1.0     -0.994912   -0.994912  -0.994912   \n",
            "3  -0.836145 -0.836145       -1.0     -0.994912   -0.994912  -0.994912   \n",
            "10 -0.836145 -0.836145       -1.0     -0.978029   -0.978029  -0.978029   \n",
            "\n",
            "    DIMER_MAX  DIMER_DIFF  BLOODPRESSURE_DIASTOLIC_MEAN  \\\n",
            "0   -0.994912        -1.0                      0.086420   \n",
            "1   -0.994912        -1.0                      0.333333   \n",
            "2   -0.994912        -1.0                      0.333333   \n",
            "3   -0.994912        -1.0                      0.333333   \n",
            "10  -0.978029        -1.0                     -0.489712   \n",
            "\n",
            "    BLOODPRESSURE_SISTOLIC_MEAN  HEART_RATE_MEAN  RESPIRATORY_RATE_MEAN  \\\n",
            "0                     -0.230769        -0.283019              -0.593220   \n",
            "1                     -0.230769        -0.132075              -0.593220   \n",
            "2                     -0.230769        -0.132075              -0.593220   \n",
            "3                     -0.230769        -0.132075              -0.593220   \n",
            "10                    -0.685470        -0.048218              -0.645951   \n",
            "\n",
            "    TEMPERATURE_MEAN  OXYGEN_SATURATION_MEAN  BLOODPRESSURE_DIASTOLIC_MEDIAN  \\\n",
            "0          -0.285714                0.736842                        0.086420   \n",
            "1           0.535714                0.578947                        0.333333   \n",
            "2           0.535714                0.578947                        0.333333   \n",
            "3          -0.107143                0.736842                        0.333333   \n",
            "10          0.357143                0.935673                       -0.506173   \n",
            "\n",
            "    BLOODPRESSURE_SISTOLIC_MEDIAN  HEART_RATE_MEDIAN  RESPIRATORY_RATE_MEDIAN  \\\n",
            "0                       -0.230769          -0.283019                -0.586207   \n",
            "1                       -0.230769          -0.132075                -0.586207   \n",
            "2                       -0.230769          -0.132075                -0.586207   \n",
            "3                       -0.230769          -0.132075                -0.586207   \n",
            "10                      -0.815385          -0.056604                -0.517241   \n",
            "\n",
            "    TEMPERATURE_MEDIAN  OXYGEN_SATURATION_MEDIAN  BLOODPRESSURE_DIASTOLIC_MIN  \\\n",
            "0            -0.285714                  0.736842                     0.237113   \n",
            "1             0.535714                  0.578947                     0.443299   \n",
            "2             0.535714                  0.578947                     0.443299   \n",
            "3            -0.107143                  0.736842                     0.443299   \n",
            "10            0.357143                  0.947368                    -0.525773   \n",
            "\n",
            "    BLOODPRESSURE_SISTOLIC_MIN  HEART_RATE_MIN  RESPIRATORY_RATE_MIN  \\\n",
            "0                       0.0000       -0.162393             -0.500000   \n",
            "1                       0.0000       -0.025641             -0.500000   \n",
            "2                       0.0000       -0.025641             -0.500000   \n",
            "3                       0.0000       -0.025641             -0.500000   \n",
            "10                     -0.5125       -0.111111             -0.714286   \n",
            "\n",
            "    TEMPERATURE_MIN  OXYGEN_SATURATION_MIN  BLOODPRESSURE_DIASTOLIC_MAX  \\\n",
            "0          0.208791               0.898990                    -0.247863   \n",
            "1          0.714286               0.838384                    -0.076923   \n",
            "2          0.714286               0.838384                    -0.076923   \n",
            "3          0.318681               0.898990                    -0.076923   \n",
            "10         0.604396               0.959596                    -0.435897   \n",
            "\n",
            "    BLOODPRESSURE_SISTOLIC_MAX  HEART_RATE_MAX  RESPIRATORY_RATE_MAX  \\\n",
            "0                    -0.459459       -0.432836             -0.636364   \n",
            "1                    -0.459459       -0.313433             -0.636364   \n",
            "2                    -0.459459       -0.313433             -0.636364   \n",
            "3                    -0.459459       -0.313433             -0.636364   \n",
            "10                   -0.491892        0.000000             -0.575758   \n",
            "\n",
            "    TEMPERATURE_MAX  OXYGEN_SATURATION_MAX  BLOODPRESSURE_DIASTOLIC_DIFF  \\\n",
            "0         -0.420290               0.736842                     -1.000000   \n",
            "1          0.246377               0.578947                     -1.000000   \n",
            "2          0.246377               0.578947                     -1.000000   \n",
            "3         -0.275362               0.736842                     -1.000000   \n",
            "10         0.101449               1.000000                     -0.547826   \n",
            "\n",
            "    BLOODPRESSURE_SISTOLIC_DIFF  HEART_RATE_DIFF  RESPIRATORY_RATE_DIFF  \\\n",
            "0                     -1.000000        -1.000000              -1.000000   \n",
            "1                     -1.000000        -1.000000              -1.000000   \n",
            "2                     -1.000000        -1.000000              -1.000000   \n",
            "3                     -1.000000        -1.000000              -1.000000   \n",
            "10                    -0.533742        -0.603053              -0.764706   \n",
            "\n",
            "    TEMPERATURE_DIFF  OXYGEN_SATURATION_DIFF  \\\n",
            "0               -1.0               -1.000000   \n",
            "1               -1.0               -1.000000   \n",
            "2               -1.0               -1.000000   \n",
            "3               -1.0               -1.000000   \n",
            "10              -1.0               -0.959596   \n",
            "\n",
            "    BLOODPRESSURE_DIASTOLIC_DIFF_REL  BLOODPRESSURE_SISTOLIC_DIFF_REL  \\\n",
            "0                          -1.000000                        -1.000000   \n",
            "1                          -1.000000                        -1.000000   \n",
            "2                          -1.000000                        -1.000000   \n",
            "3                          -1.000000                        -1.000000   \n",
            "10                         -0.515528                        -0.351328   \n",
            "\n",
            "    HEART_RATE_DIFF_REL  RESPIRATORY_RATE_DIFF_REL  TEMPERATURE_DIFF_REL  \\\n",
            "0             -1.000000                  -1.000000                  -1.0   \n",
            "1             -1.000000                  -1.000000                  -1.0   \n",
            "2             -1.000000                  -1.000000                  -1.0   \n",
            "3             -1.000000                  -1.000000                  -1.0   \n",
            "10            -0.747001                  -0.756272                  -1.0   \n",
            "\n",
            "    OXYGEN_SATURATION_DIFF_REL  WINDOW  ICU  ICU_result  \n",
            "0                    -1.000000     0-2    0           1  \n",
            "1                    -1.000000     2-4    0           1  \n",
            "2                    -1.000000     4-6    0           1  \n",
            "3                    -1.000000    6-12    0           1  \n",
            "10                   -0.961262     0-2    0           1  \n",
            "\n",
            "[5 rows x 232 columns]\n"
          ],
          "name": "stdout"
        }
      ]
    },
    {
      "cell_type": "code",
      "metadata": {
        "colab": {
          "base_uri": "https://localhost:8080/"
        },
        "id": "tpOj93NKcBvD",
        "outputId": "06399617-4d4e-4abd-d263-f38ebcd1a979"
      },
      "source": [
        "df3.info(verbose = True)"
      ],
      "execution_count": 13,
      "outputs": [
        {
          "output_type": "stream",
          "text": [
            "<class 'pandas.core.frame.DataFrame'>\n",
            "Int64Index: 1410 entries, 0 to 1924\n",
            "Data columns (total 232 columns):\n",
            " #   Column                            Dtype  \n",
            "---  ------                            -----  \n",
            " 0   PATIENT_VISIT_IDENTIFIER          int64  \n",
            " 1   AGE_ABOVE65                       int64  \n",
            " 2   AGE_PERCENTIL                     object \n",
            " 3   GENDER                            int64  \n",
            " 4   DISEASE GROUPING 1                float64\n",
            " 5   DISEASE GROUPING 2                float64\n",
            " 6   DISEASE GROUPING 3                float64\n",
            " 7   DISEASE GROUPING 4                float64\n",
            " 8   DISEASE GROUPING 5                float64\n",
            " 9   DISEASE GROUPING 6                float64\n",
            " 10  HTN                               float64\n",
            " 11  IMMUNOCOMPROMISED                 float64\n",
            " 12  OTHER                             float64\n",
            " 13  ALBUMIN_MEDIAN                    float64\n",
            " 14  ALBUMIN_MEAN                      float64\n",
            " 15  ALBUMIN_MIN                       float64\n",
            " 16  ALBUMIN_MAX                       float64\n",
            " 17  ALBUMIN_DIFF                      float64\n",
            " 18  BE_ARTERIAL_MEDIAN                float64\n",
            " 19  BE_ARTERIAL_MEAN                  float64\n",
            " 20  BE_ARTERIAL_MIN                   float64\n",
            " 21  BE_ARTERIAL_MAX                   float64\n",
            " 22  BE_ARTERIAL_DIFF                  float64\n",
            " 23  BE_VENOUS_MEDIAN                  float64\n",
            " 24  BE_VENOUS_MEAN                    float64\n",
            " 25  BE_VENOUS_MIN                     float64\n",
            " 26  BE_VENOUS_MAX                     float64\n",
            " 27  BE_VENOUS_DIFF                    float64\n",
            " 28  BIC_ARTERIAL_MEDIAN               float64\n",
            " 29  BIC_ARTERIAL_MEAN                 float64\n",
            " 30  BIC_ARTERIAL_MIN                  float64\n",
            " 31  BIC_ARTERIAL_MAX                  float64\n",
            " 32  BIC_ARTERIAL_DIFF                 float64\n",
            " 33  BIC_VENOUS_MEDIAN                 float64\n",
            " 34  BIC_VENOUS_MEAN                   float64\n",
            " 35  BIC_VENOUS_MIN                    float64\n",
            " 36  BIC_VENOUS_MAX                    float64\n",
            " 37  BIC_VENOUS_DIFF                   float64\n",
            " 38  BILLIRUBIN_MEDIAN                 float64\n",
            " 39  BILLIRUBIN_MEAN                   float64\n",
            " 40  BILLIRUBIN_MIN                    float64\n",
            " 41  BILLIRUBIN_MAX                    float64\n",
            " 42  BILLIRUBIN_DIFF                   float64\n",
            " 43  BLAST_MEDIAN                      float64\n",
            " 44  BLAST_MEAN                        float64\n",
            " 45  BLAST_MIN                         float64\n",
            " 46  BLAST_MAX                         float64\n",
            " 47  BLAST_DIFF                        float64\n",
            " 48  CALCIUM_MEDIAN                    float64\n",
            " 49  CALCIUM_MEAN                      float64\n",
            " 50  CALCIUM_MIN                       float64\n",
            " 51  CALCIUM_MAX                       float64\n",
            " 52  CALCIUM_DIFF                      float64\n",
            " 53  CREATININ_MEDIAN                  float64\n",
            " 54  CREATININ_MEAN                    float64\n",
            " 55  CREATININ_MIN                     float64\n",
            " 56  CREATININ_MAX                     float64\n",
            " 57  CREATININ_DIFF                    float64\n",
            " 58  FFA_MEDIAN                        float64\n",
            " 59  FFA_MEAN                          float64\n",
            " 60  FFA_MIN                           float64\n",
            " 61  FFA_MAX                           float64\n",
            " 62  FFA_DIFF                          float64\n",
            " 63  GGT_MEDIAN                        float64\n",
            " 64  GGT_MEAN                          float64\n",
            " 65  GGT_MIN                           float64\n",
            " 66  GGT_MAX                           float64\n",
            " 67  GGT_DIFF                          float64\n",
            " 68  GLUCOSE_MEDIAN                    float64\n",
            " 69  GLUCOSE_MEAN                      float64\n",
            " 70  GLUCOSE_MIN                       float64\n",
            " 71  GLUCOSE_MAX                       float64\n",
            " 72  GLUCOSE_DIFF                      float64\n",
            " 73  HEMATOCRITE_MEDIAN                float64\n",
            " 74  HEMATOCRITE_MEAN                  float64\n",
            " 75  HEMATOCRITE_MIN                   float64\n",
            " 76  HEMATOCRITE_MAX                   float64\n",
            " 77  HEMATOCRITE_DIFF                  float64\n",
            " 78  HEMOGLOBIN_MEDIAN                 float64\n",
            " 79  HEMOGLOBIN_MEAN                   float64\n",
            " 80  HEMOGLOBIN_MIN                    float64\n",
            " 81  HEMOGLOBIN_MAX                    float64\n",
            " 82  HEMOGLOBIN_DIFF                   float64\n",
            " 83  INR_MEDIAN                        float64\n",
            " 84  INR_MEAN                          float64\n",
            " 85  INR_MIN                           float64\n",
            " 86  INR_MAX                           float64\n",
            " 87  INR_DIFF                          float64\n",
            " 88  LACTATE_MEDIAN                    float64\n",
            " 89  LACTATE_MEAN                      float64\n",
            " 90  LACTATE_MIN                       float64\n",
            " 91  LACTATE_MAX                       float64\n",
            " 92  LACTATE_DIFF                      float64\n",
            " 93  LEUKOCYTES_MEDIAN                 float64\n",
            " 94  LEUKOCYTES_MEAN                   float64\n",
            " 95  LEUKOCYTES_MIN                    float64\n",
            " 96  LEUKOCYTES_MAX                    float64\n",
            " 97  LEUKOCYTES_DIFF                   float64\n",
            " 98  LINFOCITOS_MEDIAN                 float64\n",
            " 99  LINFOCITOS_MEAN                   float64\n",
            " 100 LINFOCITOS_MIN                    float64\n",
            " 101 LINFOCITOS_MAX                    float64\n",
            " 102 LINFOCITOS_DIFF                   float64\n",
            " 103 NEUTROPHILES_MEDIAN               float64\n",
            " 104 NEUTROPHILES_MEAN                 float64\n",
            " 105 NEUTROPHILES_MIN                  float64\n",
            " 106 NEUTROPHILES_MAX                  float64\n",
            " 107 NEUTROPHILES_DIFF                 float64\n",
            " 108 P02_ARTERIAL_MEDIAN               float64\n",
            " 109 P02_ARTERIAL_MEAN                 float64\n",
            " 110 P02_ARTERIAL_MIN                  float64\n",
            " 111 P02_ARTERIAL_MAX                  float64\n",
            " 112 P02_ARTERIAL_DIFF                 float64\n",
            " 113 P02_VENOUS_MEDIAN                 float64\n",
            " 114 P02_VENOUS_MEAN                   float64\n",
            " 115 P02_VENOUS_MIN                    float64\n",
            " 116 P02_VENOUS_MAX                    float64\n",
            " 117 P02_VENOUS_DIFF                   float64\n",
            " 118 PC02_ARTERIAL_MEDIAN              float64\n",
            " 119 PC02_ARTERIAL_MEAN                float64\n",
            " 120 PC02_ARTERIAL_MIN                 float64\n",
            " 121 PC02_ARTERIAL_MAX                 float64\n",
            " 122 PC02_ARTERIAL_DIFF                float64\n",
            " 123 PC02_VENOUS_MEDIAN                float64\n",
            " 124 PC02_VENOUS_MEAN                  float64\n",
            " 125 PC02_VENOUS_MIN                   float64\n",
            " 126 PC02_VENOUS_MAX                   float64\n",
            " 127 PC02_VENOUS_DIFF                  float64\n",
            " 128 PCR_MEDIAN                        float64\n",
            " 129 PCR_MEAN                          float64\n",
            " 130 PCR_MIN                           float64\n",
            " 131 PCR_MAX                           float64\n",
            " 132 PCR_DIFF                          float64\n",
            " 133 PH_ARTERIAL_MEDIAN                float64\n",
            " 134 PH_ARTERIAL_MEAN                  float64\n",
            " 135 PH_ARTERIAL_MIN                   float64\n",
            " 136 PH_ARTERIAL_MAX                   float64\n",
            " 137 PH_ARTERIAL_DIFF                  float64\n",
            " 138 PH_VENOUS_MEDIAN                  float64\n",
            " 139 PH_VENOUS_MEAN                    float64\n",
            " 140 PH_VENOUS_MIN                     float64\n",
            " 141 PH_VENOUS_MAX                     float64\n",
            " 142 PH_VENOUS_DIFF                    float64\n",
            " 143 PLATELETS_MEDIAN                  float64\n",
            " 144 PLATELETS_MEAN                    float64\n",
            " 145 PLATELETS_MIN                     float64\n",
            " 146 PLATELETS_MAX                     float64\n",
            " 147 PLATELETS_DIFF                    float64\n",
            " 148 POTASSIUM_MEDIAN                  float64\n",
            " 149 POTASSIUM_MEAN                    float64\n",
            " 150 POTASSIUM_MIN                     float64\n",
            " 151 POTASSIUM_MAX                     float64\n",
            " 152 POTASSIUM_DIFF                    float64\n",
            " 153 SAT02_ARTERIAL_MEDIAN             float64\n",
            " 154 SAT02_ARTERIAL_MEAN               float64\n",
            " 155 SAT02_ARTERIAL_MIN                float64\n",
            " 156 SAT02_ARTERIAL_MAX                float64\n",
            " 157 SAT02_ARTERIAL_DIFF               float64\n",
            " 158 SAT02_VENOUS_MEDIAN               float64\n",
            " 159 SAT02_VENOUS_MEAN                 float64\n",
            " 160 SAT02_VENOUS_MIN                  float64\n",
            " 161 SAT02_VENOUS_MAX                  float64\n",
            " 162 SAT02_VENOUS_DIFF                 float64\n",
            " 163 SODIUM_MEDIAN                     float64\n",
            " 164 SODIUM_MEAN                       float64\n",
            " 165 SODIUM_MIN                        float64\n",
            " 166 SODIUM_MAX                        float64\n",
            " 167 SODIUM_DIFF                       float64\n",
            " 168 TGO_MEDIAN                        float64\n",
            " 169 TGO_MEAN                          float64\n",
            " 170 TGO_MIN                           float64\n",
            " 171 TGO_MAX                           float64\n",
            " 172 TGO_DIFF                          float64\n",
            " 173 TGP_MEDIAN                        float64\n",
            " 174 TGP_MEAN                          float64\n",
            " 175 TGP_MIN                           float64\n",
            " 176 TGP_MAX                           float64\n",
            " 177 TGP_DIFF                          float64\n",
            " 178 TTPA_MEDIAN                       float64\n",
            " 179 TTPA_MEAN                         float64\n",
            " 180 TTPA_MIN                          float64\n",
            " 181 TTPA_MAX                          float64\n",
            " 182 TTPA_DIFF                         float64\n",
            " 183 UREA_MEDIAN                       float64\n",
            " 184 UREA_MEAN                         float64\n",
            " 185 UREA_MIN                          float64\n",
            " 186 UREA_MAX                          float64\n",
            " 187 UREA_DIFF                         float64\n",
            " 188 DIMER_MEDIAN                      float64\n",
            " 189 DIMER_MEAN                        float64\n",
            " 190 DIMER_MIN                         float64\n",
            " 191 DIMER_MAX                         float64\n",
            " 192 DIMER_DIFF                        float64\n",
            " 193 BLOODPRESSURE_DIASTOLIC_MEAN      float64\n",
            " 194 BLOODPRESSURE_SISTOLIC_MEAN       float64\n",
            " 195 HEART_RATE_MEAN                   float64\n",
            " 196 RESPIRATORY_RATE_MEAN             float64\n",
            " 197 TEMPERATURE_MEAN                  float64\n",
            " 198 OXYGEN_SATURATION_MEAN            float64\n",
            " 199 BLOODPRESSURE_DIASTOLIC_MEDIAN    float64\n",
            " 200 BLOODPRESSURE_SISTOLIC_MEDIAN     float64\n",
            " 201 HEART_RATE_MEDIAN                 float64\n",
            " 202 RESPIRATORY_RATE_MEDIAN           float64\n",
            " 203 TEMPERATURE_MEDIAN                float64\n",
            " 204 OXYGEN_SATURATION_MEDIAN          float64\n",
            " 205 BLOODPRESSURE_DIASTOLIC_MIN       float64\n",
            " 206 BLOODPRESSURE_SISTOLIC_MIN        float64\n",
            " 207 HEART_RATE_MIN                    float64\n",
            " 208 RESPIRATORY_RATE_MIN              float64\n",
            " 209 TEMPERATURE_MIN                   float64\n",
            " 210 OXYGEN_SATURATION_MIN             float64\n",
            " 211 BLOODPRESSURE_DIASTOLIC_MAX       float64\n",
            " 212 BLOODPRESSURE_SISTOLIC_MAX        float64\n",
            " 213 HEART_RATE_MAX                    float64\n",
            " 214 RESPIRATORY_RATE_MAX              float64\n",
            " 215 TEMPERATURE_MAX                   float64\n",
            " 216 OXYGEN_SATURATION_MAX             float64\n",
            " 217 BLOODPRESSURE_DIASTOLIC_DIFF      float64\n",
            " 218 BLOODPRESSURE_SISTOLIC_DIFF       float64\n",
            " 219 HEART_RATE_DIFF                   float64\n",
            " 220 RESPIRATORY_RATE_DIFF             float64\n",
            " 221 TEMPERATURE_DIFF                  float64\n",
            " 222 OXYGEN_SATURATION_DIFF            float64\n",
            " 223 BLOODPRESSURE_DIASTOLIC_DIFF_REL  float64\n",
            " 224 BLOODPRESSURE_SISTOLIC_DIFF_REL   float64\n",
            " 225 HEART_RATE_DIFF_REL               float64\n",
            " 226 RESPIRATORY_RATE_DIFF_REL         float64\n",
            " 227 TEMPERATURE_DIFF_REL              float64\n",
            " 228 OXYGEN_SATURATION_DIFF_REL        float64\n",
            " 229 WINDOW                            object \n",
            " 230 ICU                               int64  \n",
            " 231 ICU_result                        int64  \n",
            "dtypes: float64(225), int64(5), object(2)\n",
            "memory usage: 2.5+ MB\n"
          ],
          "name": "stdout"
        }
      ]
    },
    {
      "cell_type": "code",
      "metadata": {
        "id": "iUM3IUuje1pZ"
      },
      "source": [
        "# To build classification model, all variables need to be in int or float\n",
        "# Convert AGE_PERCENTIL into int\n",
        "df3[\"AGE_PERCENTIL\"] = df3[\"AGE_PERCENTIL\"].apply(lambda x: int(x.replace(\"th\", \"\").strip(\"Above \")))"
      ],
      "execution_count": 14,
      "outputs": []
    },
    {
      "cell_type": "code",
      "metadata": {
        "colab": {
          "base_uri": "https://localhost:8080/"
        },
        "id": "ifTu4jFcfhqC",
        "outputId": "b7c25789-ed78-4646-c109-60ad70374688"
      },
      "source": [
        "# Check again df3.info()\n",
        "df3.info(verbose = True)\n",
        "# As we can see, AGE_PERCENTIL is in int right now. All variables except for WINDOW is ready for classification analysis"
      ],
      "execution_count": 15,
      "outputs": [
        {
          "output_type": "stream",
          "text": [
            "<class 'pandas.core.frame.DataFrame'>\n",
            "Int64Index: 1410 entries, 0 to 1924\n",
            "Data columns (total 232 columns):\n",
            " #   Column                            Dtype  \n",
            "---  ------                            -----  \n",
            " 0   PATIENT_VISIT_IDENTIFIER          int64  \n",
            " 1   AGE_ABOVE65                       int64  \n",
            " 2   AGE_PERCENTIL                     int64  \n",
            " 3   GENDER                            int64  \n",
            " 4   DISEASE GROUPING 1                float64\n",
            " 5   DISEASE GROUPING 2                float64\n",
            " 6   DISEASE GROUPING 3                float64\n",
            " 7   DISEASE GROUPING 4                float64\n",
            " 8   DISEASE GROUPING 5                float64\n",
            " 9   DISEASE GROUPING 6                float64\n",
            " 10  HTN                               float64\n",
            " 11  IMMUNOCOMPROMISED                 float64\n",
            " 12  OTHER                             float64\n",
            " 13  ALBUMIN_MEDIAN                    float64\n",
            " 14  ALBUMIN_MEAN                      float64\n",
            " 15  ALBUMIN_MIN                       float64\n",
            " 16  ALBUMIN_MAX                       float64\n",
            " 17  ALBUMIN_DIFF                      float64\n",
            " 18  BE_ARTERIAL_MEDIAN                float64\n",
            " 19  BE_ARTERIAL_MEAN                  float64\n",
            " 20  BE_ARTERIAL_MIN                   float64\n",
            " 21  BE_ARTERIAL_MAX                   float64\n",
            " 22  BE_ARTERIAL_DIFF                  float64\n",
            " 23  BE_VENOUS_MEDIAN                  float64\n",
            " 24  BE_VENOUS_MEAN                    float64\n",
            " 25  BE_VENOUS_MIN                     float64\n",
            " 26  BE_VENOUS_MAX                     float64\n",
            " 27  BE_VENOUS_DIFF                    float64\n",
            " 28  BIC_ARTERIAL_MEDIAN               float64\n",
            " 29  BIC_ARTERIAL_MEAN                 float64\n",
            " 30  BIC_ARTERIAL_MIN                  float64\n",
            " 31  BIC_ARTERIAL_MAX                  float64\n",
            " 32  BIC_ARTERIAL_DIFF                 float64\n",
            " 33  BIC_VENOUS_MEDIAN                 float64\n",
            " 34  BIC_VENOUS_MEAN                   float64\n",
            " 35  BIC_VENOUS_MIN                    float64\n",
            " 36  BIC_VENOUS_MAX                    float64\n",
            " 37  BIC_VENOUS_DIFF                   float64\n",
            " 38  BILLIRUBIN_MEDIAN                 float64\n",
            " 39  BILLIRUBIN_MEAN                   float64\n",
            " 40  BILLIRUBIN_MIN                    float64\n",
            " 41  BILLIRUBIN_MAX                    float64\n",
            " 42  BILLIRUBIN_DIFF                   float64\n",
            " 43  BLAST_MEDIAN                      float64\n",
            " 44  BLAST_MEAN                        float64\n",
            " 45  BLAST_MIN                         float64\n",
            " 46  BLAST_MAX                         float64\n",
            " 47  BLAST_DIFF                        float64\n",
            " 48  CALCIUM_MEDIAN                    float64\n",
            " 49  CALCIUM_MEAN                      float64\n",
            " 50  CALCIUM_MIN                       float64\n",
            " 51  CALCIUM_MAX                       float64\n",
            " 52  CALCIUM_DIFF                      float64\n",
            " 53  CREATININ_MEDIAN                  float64\n",
            " 54  CREATININ_MEAN                    float64\n",
            " 55  CREATININ_MIN                     float64\n",
            " 56  CREATININ_MAX                     float64\n",
            " 57  CREATININ_DIFF                    float64\n",
            " 58  FFA_MEDIAN                        float64\n",
            " 59  FFA_MEAN                          float64\n",
            " 60  FFA_MIN                           float64\n",
            " 61  FFA_MAX                           float64\n",
            " 62  FFA_DIFF                          float64\n",
            " 63  GGT_MEDIAN                        float64\n",
            " 64  GGT_MEAN                          float64\n",
            " 65  GGT_MIN                           float64\n",
            " 66  GGT_MAX                           float64\n",
            " 67  GGT_DIFF                          float64\n",
            " 68  GLUCOSE_MEDIAN                    float64\n",
            " 69  GLUCOSE_MEAN                      float64\n",
            " 70  GLUCOSE_MIN                       float64\n",
            " 71  GLUCOSE_MAX                       float64\n",
            " 72  GLUCOSE_DIFF                      float64\n",
            " 73  HEMATOCRITE_MEDIAN                float64\n",
            " 74  HEMATOCRITE_MEAN                  float64\n",
            " 75  HEMATOCRITE_MIN                   float64\n",
            " 76  HEMATOCRITE_MAX                   float64\n",
            " 77  HEMATOCRITE_DIFF                  float64\n",
            " 78  HEMOGLOBIN_MEDIAN                 float64\n",
            " 79  HEMOGLOBIN_MEAN                   float64\n",
            " 80  HEMOGLOBIN_MIN                    float64\n",
            " 81  HEMOGLOBIN_MAX                    float64\n",
            " 82  HEMOGLOBIN_DIFF                   float64\n",
            " 83  INR_MEDIAN                        float64\n",
            " 84  INR_MEAN                          float64\n",
            " 85  INR_MIN                           float64\n",
            " 86  INR_MAX                           float64\n",
            " 87  INR_DIFF                          float64\n",
            " 88  LACTATE_MEDIAN                    float64\n",
            " 89  LACTATE_MEAN                      float64\n",
            " 90  LACTATE_MIN                       float64\n",
            " 91  LACTATE_MAX                       float64\n",
            " 92  LACTATE_DIFF                      float64\n",
            " 93  LEUKOCYTES_MEDIAN                 float64\n",
            " 94  LEUKOCYTES_MEAN                   float64\n",
            " 95  LEUKOCYTES_MIN                    float64\n",
            " 96  LEUKOCYTES_MAX                    float64\n",
            " 97  LEUKOCYTES_DIFF                   float64\n",
            " 98  LINFOCITOS_MEDIAN                 float64\n",
            " 99  LINFOCITOS_MEAN                   float64\n",
            " 100 LINFOCITOS_MIN                    float64\n",
            " 101 LINFOCITOS_MAX                    float64\n",
            " 102 LINFOCITOS_DIFF                   float64\n",
            " 103 NEUTROPHILES_MEDIAN               float64\n",
            " 104 NEUTROPHILES_MEAN                 float64\n",
            " 105 NEUTROPHILES_MIN                  float64\n",
            " 106 NEUTROPHILES_MAX                  float64\n",
            " 107 NEUTROPHILES_DIFF                 float64\n",
            " 108 P02_ARTERIAL_MEDIAN               float64\n",
            " 109 P02_ARTERIAL_MEAN                 float64\n",
            " 110 P02_ARTERIAL_MIN                  float64\n",
            " 111 P02_ARTERIAL_MAX                  float64\n",
            " 112 P02_ARTERIAL_DIFF                 float64\n",
            " 113 P02_VENOUS_MEDIAN                 float64\n",
            " 114 P02_VENOUS_MEAN                   float64\n",
            " 115 P02_VENOUS_MIN                    float64\n",
            " 116 P02_VENOUS_MAX                    float64\n",
            " 117 P02_VENOUS_DIFF                   float64\n",
            " 118 PC02_ARTERIAL_MEDIAN              float64\n",
            " 119 PC02_ARTERIAL_MEAN                float64\n",
            " 120 PC02_ARTERIAL_MIN                 float64\n",
            " 121 PC02_ARTERIAL_MAX                 float64\n",
            " 122 PC02_ARTERIAL_DIFF                float64\n",
            " 123 PC02_VENOUS_MEDIAN                float64\n",
            " 124 PC02_VENOUS_MEAN                  float64\n",
            " 125 PC02_VENOUS_MIN                   float64\n",
            " 126 PC02_VENOUS_MAX                   float64\n",
            " 127 PC02_VENOUS_DIFF                  float64\n",
            " 128 PCR_MEDIAN                        float64\n",
            " 129 PCR_MEAN                          float64\n",
            " 130 PCR_MIN                           float64\n",
            " 131 PCR_MAX                           float64\n",
            " 132 PCR_DIFF                          float64\n",
            " 133 PH_ARTERIAL_MEDIAN                float64\n",
            " 134 PH_ARTERIAL_MEAN                  float64\n",
            " 135 PH_ARTERIAL_MIN                   float64\n",
            " 136 PH_ARTERIAL_MAX                   float64\n",
            " 137 PH_ARTERIAL_DIFF                  float64\n",
            " 138 PH_VENOUS_MEDIAN                  float64\n",
            " 139 PH_VENOUS_MEAN                    float64\n",
            " 140 PH_VENOUS_MIN                     float64\n",
            " 141 PH_VENOUS_MAX                     float64\n",
            " 142 PH_VENOUS_DIFF                    float64\n",
            " 143 PLATELETS_MEDIAN                  float64\n",
            " 144 PLATELETS_MEAN                    float64\n",
            " 145 PLATELETS_MIN                     float64\n",
            " 146 PLATELETS_MAX                     float64\n",
            " 147 PLATELETS_DIFF                    float64\n",
            " 148 POTASSIUM_MEDIAN                  float64\n",
            " 149 POTASSIUM_MEAN                    float64\n",
            " 150 POTASSIUM_MIN                     float64\n",
            " 151 POTASSIUM_MAX                     float64\n",
            " 152 POTASSIUM_DIFF                    float64\n",
            " 153 SAT02_ARTERIAL_MEDIAN             float64\n",
            " 154 SAT02_ARTERIAL_MEAN               float64\n",
            " 155 SAT02_ARTERIAL_MIN                float64\n",
            " 156 SAT02_ARTERIAL_MAX                float64\n",
            " 157 SAT02_ARTERIAL_DIFF               float64\n",
            " 158 SAT02_VENOUS_MEDIAN               float64\n",
            " 159 SAT02_VENOUS_MEAN                 float64\n",
            " 160 SAT02_VENOUS_MIN                  float64\n",
            " 161 SAT02_VENOUS_MAX                  float64\n",
            " 162 SAT02_VENOUS_DIFF                 float64\n",
            " 163 SODIUM_MEDIAN                     float64\n",
            " 164 SODIUM_MEAN                       float64\n",
            " 165 SODIUM_MIN                        float64\n",
            " 166 SODIUM_MAX                        float64\n",
            " 167 SODIUM_DIFF                       float64\n",
            " 168 TGO_MEDIAN                        float64\n",
            " 169 TGO_MEAN                          float64\n",
            " 170 TGO_MIN                           float64\n",
            " 171 TGO_MAX                           float64\n",
            " 172 TGO_DIFF                          float64\n",
            " 173 TGP_MEDIAN                        float64\n",
            " 174 TGP_MEAN                          float64\n",
            " 175 TGP_MIN                           float64\n",
            " 176 TGP_MAX                           float64\n",
            " 177 TGP_DIFF                          float64\n",
            " 178 TTPA_MEDIAN                       float64\n",
            " 179 TTPA_MEAN                         float64\n",
            " 180 TTPA_MIN                          float64\n",
            " 181 TTPA_MAX                          float64\n",
            " 182 TTPA_DIFF                         float64\n",
            " 183 UREA_MEDIAN                       float64\n",
            " 184 UREA_MEAN                         float64\n",
            " 185 UREA_MIN                          float64\n",
            " 186 UREA_MAX                          float64\n",
            " 187 UREA_DIFF                         float64\n",
            " 188 DIMER_MEDIAN                      float64\n",
            " 189 DIMER_MEAN                        float64\n",
            " 190 DIMER_MIN                         float64\n",
            " 191 DIMER_MAX                         float64\n",
            " 192 DIMER_DIFF                        float64\n",
            " 193 BLOODPRESSURE_DIASTOLIC_MEAN      float64\n",
            " 194 BLOODPRESSURE_SISTOLIC_MEAN       float64\n",
            " 195 HEART_RATE_MEAN                   float64\n",
            " 196 RESPIRATORY_RATE_MEAN             float64\n",
            " 197 TEMPERATURE_MEAN                  float64\n",
            " 198 OXYGEN_SATURATION_MEAN            float64\n",
            " 199 BLOODPRESSURE_DIASTOLIC_MEDIAN    float64\n",
            " 200 BLOODPRESSURE_SISTOLIC_MEDIAN     float64\n",
            " 201 HEART_RATE_MEDIAN                 float64\n",
            " 202 RESPIRATORY_RATE_MEDIAN           float64\n",
            " 203 TEMPERATURE_MEDIAN                float64\n",
            " 204 OXYGEN_SATURATION_MEDIAN          float64\n",
            " 205 BLOODPRESSURE_DIASTOLIC_MIN       float64\n",
            " 206 BLOODPRESSURE_SISTOLIC_MIN        float64\n",
            " 207 HEART_RATE_MIN                    float64\n",
            " 208 RESPIRATORY_RATE_MIN              float64\n",
            " 209 TEMPERATURE_MIN                   float64\n",
            " 210 OXYGEN_SATURATION_MIN             float64\n",
            " 211 BLOODPRESSURE_DIASTOLIC_MAX       float64\n",
            " 212 BLOODPRESSURE_SISTOLIC_MAX        float64\n",
            " 213 HEART_RATE_MAX                    float64\n",
            " 214 RESPIRATORY_RATE_MAX              float64\n",
            " 215 TEMPERATURE_MAX                   float64\n",
            " 216 OXYGEN_SATURATION_MAX             float64\n",
            " 217 BLOODPRESSURE_DIASTOLIC_DIFF      float64\n",
            " 218 BLOODPRESSURE_SISTOLIC_DIFF       float64\n",
            " 219 HEART_RATE_DIFF                   float64\n",
            " 220 RESPIRATORY_RATE_DIFF             float64\n",
            " 221 TEMPERATURE_DIFF                  float64\n",
            " 222 OXYGEN_SATURATION_DIFF            float64\n",
            " 223 BLOODPRESSURE_DIASTOLIC_DIFF_REL  float64\n",
            " 224 BLOODPRESSURE_SISTOLIC_DIFF_REL   float64\n",
            " 225 HEART_RATE_DIFF_REL               float64\n",
            " 226 RESPIRATORY_RATE_DIFF_REL         float64\n",
            " 227 TEMPERATURE_DIFF_REL              float64\n",
            " 228 OXYGEN_SATURATION_DIFF_REL        float64\n",
            " 229 WINDOW                            object \n",
            " 230 ICU                               int64  \n",
            " 231 ICU_result                        int64  \n",
            "dtypes: float64(225), int64(6), object(1)\n",
            "memory usage: 2.5+ MB\n"
          ],
          "name": "stdout"
        }
      ]
    },
    {
      "cell_type": "code",
      "metadata": {
        "id": "kcMmLTe5hsao"
      },
      "source": [
        "# Set dummy variables\n",
        "df4 = pd.get_dummies(df3, columns = [\"AGE_PERCENTIL\", \"WINDOW\"])\n",
        "df4.dropna(inplace = True)\n",
        "df4.drop(columns = [\"PATIENT_VISIT_IDENTIFIER\", \"ICU\"], inplace = True) # ICU can be dropped because I already add ICU_result (which indicate the \n",
        "#ultimate ICU result to the dataframe)"
      ],
      "execution_count": 16,
      "outputs": []
    },
    {
      "cell_type": "code",
      "metadata": {
        "id": "7tMthPRDl2Ks"
      },
      "source": [
        "# Predict if a patient need ICU care\n",
        "# Split the data\n",
        "y = df4[\"ICU_result\"]\n",
        "X = df4.drop(columns = [\"ICU_result\"])\n",
        "X_train, X_test, y_train, y_test = train_test_split(X, y, test_size = 0.3, random_state = 2020, stratify = y)"
      ],
      "execution_count": 135,
      "outputs": []
    },
    {
      "cell_type": "code",
      "metadata": {
        "colab": {
          "base_uri": "https://localhost:8080/"
        },
        "id": "4duXnygXBWLv",
        "outputId": "6f03840c-a03b-4817-df4a-2af537ce9e3f"
      },
      "source": [
        "# Use Baseline Classification\n",
        "dummy_classifier = DummyClassifier(strategy = \"most_frequent\")\n",
        "dummy_classifier.fit(X_train, y_train)\n",
        "baseline_accuracy = dummy_classifier.score(X_test, y_test)\n",
        "print(\"Accuracy of baseline classification\", baseline_accuracy)"
      ],
      "execution_count": 18,
      "outputs": [
        {
          "output_type": "stream",
          "text": [
            "Accuracy of baseline classification 0.6745843230403801\n"
          ],
          "name": "stdout"
        }
      ]
    },
    {
      "cell_type": "code",
      "metadata": {
        "colab": {
          "base_uri": "https://localhost:8080/"
        },
        "id": "ynN3S4pM9vFU",
        "outputId": "cd5512be-dc82-4811-e831-f0fc615126af"
      },
      "source": [
        "# Use Desicion Tree Classifier\n",
        "dt = DecisionTreeClassifier(criterion = \"entropy\", random_state = 2020)\n",
        "dt.fit(X_train, y_train)\n",
        "pred_dt = dt.predict(X_test)\n",
        "acc_dt = metrics.accuracy_score(y_test, pred_dt)\n",
        "print(\"Accuracy of the decision tree model\", acc_dt)"
      ],
      "execution_count": 55,
      "outputs": [
        {
          "output_type": "stream",
          "text": [
            "Accuracy of the decision tree model 0.9453681710213777\n"
          ],
          "name": "stdout"
        }
      ]
    },
    {
      "cell_type": "code",
      "metadata": {
        "colab": {
          "base_uri": "https://localhost:8080/"
        },
        "id": "i7u4dOr-32mo",
        "outputId": "1de00dee-2b8c-4169-d23b-c8d996c4894d"
      },
      "source": [
        "# Recall score of dt\n",
        "recall_dt = metrics.recall_score(y_test, pred_dt)\n",
        "print(\"Recall score of the decision tree model\", recall_dt)"
      ],
      "execution_count": 73,
      "outputs": [
        {
          "output_type": "stream",
          "text": [
            "Recall score of the decision tree model 0.8686131386861314\n"
          ],
          "name": "stdout"
        }
      ]
    },
    {
      "cell_type": "code",
      "metadata": {
        "colab": {
          "base_uri": "https://localhost:8080/",
          "height": 279
        },
        "id": "abh7zdy4-Ybv",
        "outputId": "4b8de4e7-b4a5-4664-d880-f93df189eac2"
      },
      "source": [
        "# Plot the confusion matrix for dt\n",
        "metrics.plot_confusion_matrix(dt, X_test, y_test)\n",
        "plt.show()"
      ],
      "execution_count": 56,
      "outputs": [
        {
          "output_type": "display_data",
          "data": {
            "image/png": "[encoded data removed]",
            "text/plain": [
              "<Figure size 432x288 with 2 Axes>"
            ]
          },
          "metadata": {
            "tags": [],
            "needs_background": "light"
          }
        }
      ]
    },
    {
      "cell_type": "code",
      "metadata": {
        "colab": {
          "base_uri": "https://localhost:8080/",
          "height": 575
        },
        "id": "0fOywQfh_YJ-",
        "outputId": "197500c4-ed3f-4431-8927-63cb39ea2f8d"
      },
      "source": [
        "# Plot Decision Tree\n",
        "plt.figure(2, figsize = (20, 10))\n",
        "dtplot = tree.plot_tree(dt)\n",
        "plt.savefig(\"dtplot.png\")\n",
        "plt.show()"
      ],
      "execution_count": 131,
      "outputs": [
        {
          "output_type": "display_data",
          "data": {
            "image/png": "[encoded data removed]",
            "text/plain": [
              "<Figure size 1440x720 with 1 Axes>"
            ]
          },
          "metadata": {
            "tags": [],
            "needs_background": "light"
          }
        }
      ]
    },
    {
      "cell_type": "code",
      "metadata": {
        "colab": {
          "base_uri": "https://localhost:8080/"
        },
        "id": "W2lXy-XfAccv",
        "outputId": "5294eb5b-8dd6-4440-f5a8-65b13e4aa78a"
      },
      "source": [
        "# Feature Importances of dt model\n",
        "impFeatures_dt = dt.feature_importances_\n",
        "imp_dt = pd.DataFrame(zip(X_train.columns, impFeatures_dt), columns = [\"Feature\", \"Importance\"])\n",
        "imp_dt.sort_values(by = \"Importance\", ascending = False, inplace = True)\n",
        "print(\"Feature Importances of dt model:\")\n",
        "print(imp_dt.head(20))"
      ],
      "execution_count": 36,
      "outputs": [
        {
          "output_type": "stream",
          "text": [
            "Feature Importances of dt model:\n",
            "                         Feature  Importance\n",
            "129                      PCR_MAX    0.096536\n",
            "240              WINDOW_ABOVE_12    0.063129\n",
            "0                    AGE_ABOVE65    0.057625\n",
            "54                 CREATININ_MAX    0.050039\n",
            "144                PLATELETS_MAX    0.040458\n",
            "167                     TGO_MEAN    0.037518\n",
            "96             LINFOCITOS_MEDIAN    0.037466\n",
            "211               HEART_RATE_MAX    0.032320\n",
            "104             NEUTROPHILES_MAX    0.025842\n",
            "203  BLOODPRESSURE_DIASTOLIC_MIN    0.024494\n",
            "206         RESPIRATORY_RATE_MIN    0.023951\n",
            "147               POTASSIUM_MEAN    0.023183\n",
            "67                  GLUCOSE_MEAN    0.022768\n",
            "201           TEMPERATURE_MEDIAN    0.022678\n",
            "74               HEMATOCRITE_MAX    0.022561\n",
            "127                     PCR_MEAN    0.022486\n",
            "62                      GGT_MEAN    0.021025\n",
            "52                CREATININ_MEAN    0.020022\n",
            "103             NEUTROPHILES_MIN    0.019541\n",
            "225         TEMPERATURE_DIFF_REL    0.019476\n"
          ],
          "name": "stdout"
        }
      ]
    },
    {
      "cell_type": "code",
      "metadata": {
        "colab": {
          "base_uri": "https://localhost:8080/"
        },
        "id": "FvuhNA86BFEp",
        "outputId": "663a9902-30c9-4b17-eeae-d49bb281ce14"
      },
      "source": [
        "# Emsemble\n",
        "# Bagging Classifier\n",
        "dt2 = DecisionTreeClassifier()\n",
        "model_bagging = BaggingClassifier(base_estimator = dt2, n_estimators = 20, random_state = 2020)\n",
        "model_bagging.fit(X_train, y_train)\n",
        "pred_bagging = model_bagging.predict(X_test)\n",
        "acc_bagging = metrics.accuracy_score(y_test, pred_bagging)\n",
        "print(\"Accuracy of the bagging ensemble is\", acc_bagging)"
      ],
      "execution_count": 38,
      "outputs": [
        {
          "output_type": "stream",
          "text": [
            "Accuracy of the bagging ensemble is 0.9619952494061758\n"
          ],
          "name": "stdout"
        }
      ]
    },
    {
      "cell_type": "code",
      "metadata": {
        "colab": {
          "base_uri": "https://localhost:8080/"
        },
        "id": "e8mDlkN44bpI",
        "outputId": "69535450-b2e8-4b44-ec61-7ab2603de0df"
      },
      "source": [
        "# Recall score of bagging\n",
        "recall_bagging = metrics.recall_score(y_test, pred_bagging)\n",
        "print(\"Recall score of the bagging classification model\", recall_bagging)"
      ],
      "execution_count": 74,
      "outputs": [
        {
          "output_type": "stream",
          "text": [
            "Recall score of the bagging classification model 0.8978102189781022\n"
          ],
          "name": "stdout"
        }
      ]
    },
    {
      "cell_type": "code",
      "metadata": {
        "colab": {
          "base_uri": "https://localhost:8080/",
          "height": 279
        },
        "id": "ovlHoPiMBQnu",
        "outputId": "f51553c0-f1fe-4aad-9c60-9eef4c82004b"
      },
      "source": [
        "# Plot the confusion matrix for Bagging Classifier\n",
        "metrics.plot_confusion_matrix(model_bagging, X_test, y_test)\n",
        "plt.show()"
      ],
      "execution_count": 39,
      "outputs": [
        {
          "output_type": "display_data",
          "data": {
            "image/png": "[encoded data removed]",
            "text/plain": [
              "<Figure size 432x288 with 2 Axes>"
            ]
          },
          "metadata": {
            "tags": [],
            "needs_background": "light"
          }
        }
      ]
    },
    {
      "cell_type": "code",
      "metadata": {
        "colab": {
          "base_uri": "https://localhost:8080/"
        },
        "id": "ObpeCiBVCWNX",
        "outputId": "dbcc08a3-19dc-4960-cf0b-f1c5b88127b3"
      },
      "source": [
        "# Random Forest Model\n",
        "model_rf = RandomForestClassifier(n_estimators = 200, max_features = 7, random_state = 2020)\n",
        "model_rf.fit(X_train, y_train)\n",
        "predict_rf = model_rf.predict(X_test)\n",
        "acc_rf = metrics.accuracy_score(y_test, predict_rf)\n",
        "print(\"Accuracy of the random forest is\", str(acc_rf))"
      ],
      "execution_count": 59,
      "outputs": [
        {
          "output_type": "stream",
          "text": [
            "Accuracy of the random forest is 0.9667458432304038\n"
          ],
          "name": "stdout"
        }
      ]
    },
    {
      "cell_type": "code",
      "metadata": {
        "colab": {
          "base_uri": "https://localhost:8080/"
        },
        "id": "7JPnY8cj4rcg",
        "outputId": "dcf67178-d4ff-4ed1-9c80-d595fcf9d52c"
      },
      "source": [
        "# Recall score of rf\n",
        "recall_rf = metrics.recall_score(y_test, predict_rf)\n",
        "print(\"Recall score of the random forest model\", recall_rf)"
      ],
      "execution_count": 75,
      "outputs": [
        {
          "output_type": "stream",
          "text": [
            "Recall score of the random forest model 0.9051094890510949\n"
          ],
          "name": "stdout"
        }
      ]
    },
    {
      "cell_type": "code",
      "metadata": {
        "colab": {
          "base_uri": "https://localhost:8080/",
          "height": 279
        },
        "id": "saq4uI3tC_EZ",
        "outputId": "3d02eec0-981b-433e-d67c-18c370f40bd0"
      },
      "source": [
        "# Plot the confusion matrix for Random Forest\n",
        "metrics.plot_confusion_matrix(model_rf, X_test, y_test)\n",
        "plt.show()"
      ],
      "execution_count": 60,
      "outputs": [
        {
          "output_type": "display_data",
          "data": {
            "image/png": "[encoded data removed]",
            "text/plain": [
              "<Figure size 432x288 with 2 Axes>"
            ]
          },
          "metadata": {
            "tags": [],
            "needs_background": "light"
          }
        }
      ]
    },
    {
      "cell_type": "code",
      "metadata": {
        "colab": {
          "base_uri": "https://localhost:8080/"
        },
        "id": "rhmfgJKsDRdC",
        "outputId": "d05a58ec-1c07-440b-a84e-8731b4e7f95c"
      },
      "source": [
        "# Feature Importances of rf model\n",
        "impFeatures_rf = model_rf.feature_importances_\n",
        "imp_rf = pd.DataFrame(zip(X_train.columns, impFeatures_rf), columns = [\"Feature\", \"Importance\"])\n",
        "imp_rf.sort_values(by = \"Importance\", ascending = False, inplace = True)\n",
        "print(\"Feature Importances of rf model:\")\n",
        "print(imp_rf.head(20))"
      ],
      "execution_count": 61,
      "outputs": [
        {
          "output_type": "stream",
          "text": [
            "Feature Importances of rf model:\n",
            "                     Feature  Importance\n",
            "126               PCR_MEDIAN    0.023975\n",
            "129                  PCR_MAX    0.022806\n",
            "127                 PCR_MEAN    0.021665\n",
            "128                  PCR_MIN    0.019500\n",
            "206     RESPIRATORY_RATE_MIN    0.017382\n",
            "194    RESPIRATORY_RATE_MEAN    0.015936\n",
            "181              UREA_MEDIAN    0.015180\n",
            "182                UREA_MEAN    0.014702\n",
            "184                 UREA_MAX    0.014260\n",
            "98            LINFOCITOS_MIN    0.013967\n",
            "200  RESPIRATORY_RATE_MEDIAN    0.013031\n",
            "52            CREATININ_MEAN    0.012831\n",
            "164               SODIUM_MAX    0.012612\n",
            "51          CREATININ_MEDIAN    0.012242\n",
            "99            LINFOCITOS_MAX    0.012130\n",
            "96         LINFOCITOS_MEDIAN    0.012036\n",
            "163               SODIUM_MIN    0.012000\n",
            "97           LINFOCITOS_MEAN    0.011906\n",
            "53             CREATININ_MIN    0.011702\n",
            "68               GLUCOSE_MIN    0.011472\n"
          ],
          "name": "stdout"
        }
      ]
    },
    {
      "cell_type": "code",
      "metadata": {
        "colab": {
          "base_uri": "https://localhost:8080/"
        },
        "id": "ZB9-uWZyDyWI",
        "outputId": "bd6ea173-679e-442b-a60e-f78db286a8bc"
      },
      "source": [
        "# AdaBoost Classification\n",
        "dt3 = DecisionTreeClassifier()\n",
        "model_ada = AdaBoostClassifier(base_estimator = dt3, n_estimators = 200, random_state = 2020, learning_rate = 0.05)\n",
        "model_ada.fit(X_train, y_train)\n",
        "predict_ada = model_ada.predict(X_test)\n",
        "acc_ada = metrics.accuracy_score(y_test, predict_ada)\n",
        "print(\"Accuracy of the AdaBoost model is\", acc_ada)"
      ],
      "execution_count": 44,
      "outputs": [
        {
          "output_type": "stream",
          "text": [
            "Accuracy of the AdaBoost model is 0.9382422802850356\n"
          ],
          "name": "stdout"
        }
      ]
    },
    {
      "cell_type": "code",
      "metadata": {
        "colab": {
          "base_uri": "https://localhost:8080/"
        },
        "id": "Ep82VvCq42oj",
        "outputId": "320821c9-a0c9-4139-cd74-cdade3c35486"
      },
      "source": [
        "# Recall score of AdaBoost\n",
        "recall_ada = metrics.recall_score(y_test, predict_ada)\n",
        "print(\"Recall score of the Adaboost Classification model\", recall_ada)"
      ],
      "execution_count": 76,
      "outputs": [
        {
          "output_type": "stream",
          "text": [
            "Recall score of the Adaboost Classification model 0.8540145985401459\n"
          ],
          "name": "stdout"
        }
      ]
    },
    {
      "cell_type": "code",
      "metadata": {
        "colab": {
          "base_uri": "https://localhost:8080/",
          "height": 279
        },
        "id": "b0SQoY9QEbm8",
        "outputId": "9e25aec3-cded-45a8-c6f6-8c6eaa8af69f"
      },
      "source": [
        "# Plot the confusion matrix for AdaBoost Classification\n",
        "metrics.plot_confusion_matrix(model_ada, X_test, y_test)\n",
        "plt.show()"
      ],
      "execution_count": 45,
      "outputs": [
        {
          "output_type": "display_data",
          "data": {
            "image/png": "[encoded data removed]",
            "text/plain": [
              "<Figure size 432x288 with 2 Axes>"
            ]
          },
          "metadata": {
            "tags": [],
            "needs_background": "light"
          }
        }
      ]
    },
    {
      "cell_type": "code",
      "metadata": {
        "colab": {
          "base_uri": "https://localhost:8080/"
        },
        "id": "EZBZ490cEj3r",
        "outputId": "3a149feb-89ea-401b-d9aa-0c08a316c18d"
      },
      "source": [
        "# Feature Importances of AdaBoost model\n",
        "impFeatures_ada = model_ada.feature_importances_\n",
        "imp_ada = pd.DataFrame(zip(X_train.columns, impFeatures_ada), columns = [\"Feature\", \"Importance\"])\n",
        "imp_ada.sort_values(by = \"Importance\", ascending = False, inplace = True)\n",
        "print(\"Feature Importances of AdaBoost model:\")\n",
        "print(imp_ada.head(20))"
      ],
      "execution_count": 46,
      "outputs": [
        {
          "output_type": "stream",
          "text": [
            "Feature Importances of AdaBoost model:\n",
            "                         Feature  Importance\n",
            "126                   PCR_MEDIAN    0.129649\n",
            "54                 CREATININ_MAX    0.076089\n",
            "235             AGE_PERCENTIL_90    0.076023\n",
            "99                LINFOCITOS_MAX    0.046686\n",
            "162                  SODIUM_MEAN    0.040234\n",
            "81                    INR_MEDIAN    0.036724\n",
            "144                PLATELETS_MAX    0.033103\n",
            "101          NEUTROPHILES_MEDIAN    0.027404\n",
            "67                  GLUCOSE_MEAN    0.027199\n",
            "184                     UREA_MAX    0.026881\n",
            "147               POTASSIUM_MEAN    0.025628\n",
            "217              HEART_RATE_DIFF    0.023620\n",
            "203  BLOODPRESSURE_DIASTOLIC_MIN    0.021225\n",
            "204   BLOODPRESSURE_SISTOLIC_MIN    0.019961\n",
            "231             AGE_PERCENTIL_50    0.018655\n",
            "196       OXYGEN_SATURATION_MEAN    0.018557\n",
            "136             PH_VENOUS_MEDIAN    0.016591\n",
            "200      RESPIRATORY_RATE_MEDIAN    0.016539\n",
            "208        OXYGEN_SATURATION_MIN    0.016019\n",
            "91             LEUKOCYTES_MEDIAN    0.015976\n"
          ],
          "name": "stdout"
        }
      ]
    },
    {
      "cell_type": "code",
      "metadata": {
        "colab": {
          "base_uri": "https://localhost:8080/"
        },
        "id": "rq0zGztEFB0V",
        "outputId": "e0dab2f4-3872-4c44-c1c7-90aa2bc534a4"
      },
      "source": [
        "# Voting Ensemble\n",
        "rfClf = RandomForestClassifier(n_estimators = 200)\n",
        "dtClf = DecisionTreeClassifier()\n",
        "svmClf = SVC(probability = True)\n",
        "clf = VotingClassifier(estimators = [(\"rf\", rfClf), (\"dt\", dtClf), (\"svm\", svmClf)], voting = \"soft\")\n",
        "clf.fit(X_train, y_train)\n",
        "predict_clf = clf.predict(X_test)\n",
        "acc_clf = metrics.accuracy_score(y_test, predict_clf)\n",
        "print(\"Accuracy of the voting classifier is\", acc_clf)"
      ],
      "execution_count": 48,
      "outputs": [
        {
          "output_type": "stream",
          "text": [
            "Accuracy of the voting classifier is 0.9667458432304038\n"
          ],
          "name": "stdout"
        }
      ]
    },
    {
      "cell_type": "code",
      "metadata": {
        "colab": {
          "base_uri": "https://localhost:8080/"
        },
        "id": "l4p0uqp35GMz",
        "outputId": "a17227e4-b595-49e7-86af-ea2c0e3825bb"
      },
      "source": [
        "# Recall score of Voting Ensemble\n",
        "recall_clf = metrics.recall_score(y_test, predict_clf)\n",
        "print(\"Recall score of the Voting Classification model\", recall_clf)"
      ],
      "execution_count": 77,
      "outputs": [
        {
          "output_type": "stream",
          "text": [
            "Recall score of the Voting Classification model 0.8978102189781022\n"
          ],
          "name": "stdout"
        }
      ]
    },
    {
      "cell_type": "code",
      "metadata": {
        "colab": {
          "base_uri": "https://localhost:8080/",
          "height": 279
        },
        "id": "8Q9HLa9fFk1B",
        "outputId": "e819c1d2-182a-4555-957b-13b843175ca5"
      },
      "source": [
        "# Plot the confusion matrix for Voting Ensemble\n",
        "metrics.plot_confusion_matrix(clf, X_test, y_test)\n",
        "plt.show()"
      ],
      "execution_count": 49,
      "outputs": [
        {
          "output_type": "display_data",
          "data": {
            "image/png": "[encoded data removed]",
            "text/plain": [
              "<Figure size 432x288 with 2 Axes>"
            ]
          },
          "metadata": {
            "tags": [],
            "needs_background": "light"
          }
        }
      ]
    },
    {
      "cell_type": "code",
      "metadata": {
        "colab": {
          "base_uri": "https://localhost:8080/"
        },
        "id": "VV5t6Rr3Jfuh",
        "outputId": "ead299d0-d844-40c1-b374-39aea5e941a4"
      },
      "source": [
        "# Compare models\n",
        "models = [\"Decision Tree\", \"Bagging\", \"Random Forest\", \"AdaBoost Classifier\", \"Voting Classifier\"]\n",
        "accuracy = [acc_dt, acc_bagging, acc_rf, acc_ada, acc_clf]\n",
        "recall_score = [recall_dt, recall_bagging, recall_rf, recall_ada, recall_clf]\n",
        "df5 = pd.DataFrame({\"Models\": models, \"Accuracy\": accuracy, \"Recall Score\": recall_score}).sort_values(by = \"Accuracy\", ascending = False)\n",
        "print(df5)\n",
        "#print(\"The best model is Voting Classifier Forest with accuracy score\", round(acc_clf, 4))"
      ],
      "execution_count": 79,
      "outputs": [
        {
          "output_type": "stream",
          "text": [
            "                Models  Accuracy  Recall Score\n",
            "2        Random Forest  0.966746      0.905109\n",
            "4    Voting Classifier  0.966746      0.897810\n",
            "1              Bagging  0.961995      0.897810\n",
            "0        Decision Tree  0.945368      0.868613\n",
            "3  AdaBoost Classifier  0.938242      0.854015\n"
          ],
          "name": "stdout"
        }
      ]
    },
    {
      "cell_type": "code",
      "metadata": {
        "id": "o5pZVU-annj5"
      },
      "source": [
        "# Hyperparameter Tuning using Randomized Grid Search Cross Validation\n",
        "\n",
        "# Create a paramter grid\n",
        "\n",
        "n_estimators = [int(x) for x in np.linspace(200, 2000, 10)]\n",
        "max_features = ['auto', 'sqrt']\n",
        "max_depth = [int(x) for x in np.linspace(10, 110, 11)]\n",
        "max_depth.append(None)\n",
        "min_samples_split = [2, 5, 10]\n",
        "min_samples_leaf = [1, 2, 4]\n",
        "bootstrap = [True, False]\n",
        "random_grid = {'n_estimators': n_estimators,\n",
        "               'max_features': max_features,\n",
        "               'max_depth': max_depth,\n",
        "               'min_samples_split': min_samples_split,\n",
        "               'min_samples_leaf': min_samples_leaf,\n",
        "               'bootstrap': bootstrap}"
      ],
      "execution_count": 68,
      "outputs": []
    },
    {
      "cell_type": "code",
      "metadata": {
        "colab": {
          "base_uri": "https://localhost:8080/"
        },
        "id": "jzviYcM8p0bX",
        "outputId": "5942fdb9-3051-4c3b-e78c-f0d892208695"
      },
      "source": [
        "rf = RandomForestClassifier()\n",
        "rf_random = RandomizedSearchCV(estimator = rf, param_distributions = random_grid, n_iter = 100, cv = 3, verbose=2, random_state=2020, n_jobs = -1)\n",
        "rf_random.fit(X_train, y_train)"
      ],
      "execution_count": 138,
      "outputs": [
        {
          "output_type": "stream",
          "text": [
            "Fitting 3 folds for each of 100 candidates, totalling 300 fits\n"
          ],
          "name": "stdout"
        },
        {
          "output_type": "stream",
          "text": [
            "[Parallel(n_jobs=-1)]: Using backend LokyBackend with 2 concurrent workers.\n",
            "[Parallel(n_jobs=-1)]: Done  37 tasks      | elapsed:  1.8min\n",
            "[Parallel(n_jobs=-1)]: Done 158 tasks      | elapsed:  7.8min\n",
            "[Parallel(n_jobs=-1)]: Done 300 out of 300 | elapsed: 13.5min finished\n"
          ],
          "name": "stderr"
        },
        {
          "output_type": "execute_result",
          "data": {
            "text/plain": [
              "RandomizedSearchCV(cv=3, error_score=nan,\n",
              "                   estimator=RandomForestClassifier(bootstrap=True,\n",
              "                                                    ccp_alpha=0.0,\n",
              "                                                    class_weight=None,\n",
              "                                                    criterion='gini',\n",
              "                                                    max_depth=None,\n",
              "                                                    max_features='auto',\n",
              "                                                    max_leaf_nodes=None,\n",
              "                                                    max_samples=None,\n",
              "                                                    min_impurity_decrease=0.0,\n",
              "                                                    min_impurity_split=None,\n",
              "                                                    min_samples_leaf=1,\n",
              "                                                    min_samples_split=2,\n",
              "                                                    min_weight_fraction_leaf=0.0,\n",
              "                                                    n_estimators=100,\n",
              "                                                    n_jobs...\n",
              "                   param_distributions={'bootstrap': [True, False],\n",
              "                                        'max_depth': [10, 20, 30, 40, 50, 60,\n",
              "                                                      70, 80, 90, 100, 110,\n",
              "                                                      None],\n",
              "                                        'max_features': ['auto', 'sqrt'],\n",
              "                                        'min_samples_leaf': [1, 2, 4],\n",
              "                                        'min_samples_split': [2, 5, 10],\n",
              "                                        'n_estimators': [200, 400, 600, 800,\n",
              "                                                         1000, 1200, 1400, 1600,\n",
              "                                                         1800, 2000]},\n",
              "                   pre_dispatch='2*n_jobs', random_state=2020, refit=True,\n",
              "                   return_train_score=False, scoring=None, verbose=2)"
            ]
          },
          "metadata": {
            "tags": []
          },
          "execution_count": 138
        }
      ]
    },
    {
      "cell_type": "code",
      "metadata": {
        "colab": {
          "base_uri": "https://localhost:8080/"
        },
        "id": "lGV9bhSUtpHS",
        "outputId": "24b7cd95-003c-4dff-ad9a-4e56de56d6ec"
      },
      "source": [
        "# The optimal hyperparameters\n",
        "rf_random.best_params_"
      ],
      "execution_count": 139,
      "outputs": [
        {
          "output_type": "execute_result",
          "data": {
            "text/plain": [
              "{'bootstrap': False,\n",
              " 'max_depth': 60,\n",
              " 'max_features': 'sqrt',\n",
              " 'min_samples_leaf': 1,\n",
              " 'min_samples_split': 2,\n",
              " 'n_estimators': 400}"
            ]
          },
          "metadata": {
            "tags": []
          },
          "execution_count": 139
        }
      ]
    },
    {
      "cell_type": "code",
      "metadata": {
        "colab": {
          "base_uri": "https://localhost:8080/",
          "height": 313
        },
        "id": "0k9Xb4jV023_",
        "outputId": "43ac2473-213e-48ae-c4a9-7d49ae6e2a08"
      },
      "source": [
        "# Evaluate the optimal model\n",
        "optimalModel = rf_random.best_estimator_\n",
        "predict_rf_2 = optimalModel.predict(X_test)\n",
        "acc_rf_2 = metrics.accuracy_score(y_test, predict_rf_2)\n",
        "recall_rf_2 = metrics.recall_score(y_test, predict_rf_2)\n",
        "print(\"Accuracy of the new model is\", str(acc_rf_2))\n",
        "print(\"Recall score of the new model is\", recall_rf_2)\n",
        "metrics.plot_confusion_matrix(optimalModel, X_test, y_test)\n",
        "plt.show()"
      ],
      "execution_count": 140,
      "outputs": [
        {
          "output_type": "stream",
          "text": [
            "Accuracy of the new model is 0.9667458432304038\n",
            "Recall score of the new model is 0.9051094890510949\n"
          ],
          "name": "stdout"
        },
        {
          "output_type": "display_data",
          "data": {
            "image/png": "[encoded data removed]",
            "text/plain": [
              "<Figure size 432x288 with 2 Axes>"
            ]
          },
          "metadata": {
            "tags": [],
            "needs_background": "light"
          }
        }
      ]
    },
    {
      "cell_type": "code",
      "metadata": {
        "id": "tdDMHWiw2uvy"
      },
      "source": [
        "# Use the random forest model to apply on different WINDOW\n",
        "df6 = df3.dropna() # drop any missing value if exists\n",
        "df6.drop(columns = [\"PATIENT_VISIT_IDENTIFIER\", \"ICU\"], inplace = True) \n",
        "# As in previous, the column is dropped because they are unnecessary\n",
        "df_firstWindow = df6[df6.WINDOW == \"0-2\"]\n",
        "df_firstWindow.drop(columns = [\"WINDOW\"], inplace = True)\n",
        "df_firstWindow = pd.get_dummies(df_firstWindow, columns = [\"AGE_PERCENTIL\"])\n",
        "\n",
        "df_firstTwoWindows = df6[(df6.WINDOW == \"0-2\") | (df6.WINDOW == \"2-4\")]\n",
        "df_firstTwoWindows.drop(columns = [\"WINDOW\"], inplace = True)\n",
        "df_firstTwoWindows = pd.get_dummies(df_firstTwoWindows, columns = [\"AGE_PERCENTIL\"])\n",
        "\n",
        "df_firstThreeWindows = df6[(df6.WINDOW == \"0-2\") | (df6.WINDOW == \"2-4\") | (df6.WINDOW == \"4-6\")]\n",
        "df_firstThreeWindows.drop(columns = [\"WINDOW\"], inplace = True)\n",
        "df_firstThreeWindows = pd.get_dummies(df_firstThreeWindows, columns = [\"AGE_PERCENTIL\"])\n",
        "\n",
        "df_firstFourWindows = df6[(df6.WINDOW == \"0-2\") | (df6.WINDOW == \"2-4\") | (df6.WINDOW == \"4-6\") | (df6.WINDOW == \"6-12\")]\n",
        "df_firstFourWindows.drop(columns = [\"WINDOW\"], inplace = True)\n",
        "df_firstFourWindows = pd.get_dummies(df_firstFourWindows, columns = [\"AGE_PERCENTIL\"])"
      ],
      "execution_count": 112,
      "outputs": []
    },
    {
      "cell_type": "code",
      "metadata": {
        "id": "fhKTMjEj_VC_"
      },
      "source": [
        "# Build function that make predict on each WINDOW's data with optimalModel\n",
        "def Estimator(df_sample):\n",
        "  y = df_sample[\"ICU_result\"]\n",
        "  X = df_sample.drop(columns = [\"ICU_result\"])\n",
        "  X_train, X_test, y_train, y_test = train_test_split(X, y, test_size = 0.3, random_state = 2020, stratify = y)\n",
        "  optimalModel.fit(X_train, y_train)\n",
        "  y_predict = optimalModel.predict(X_test)\n",
        "  print(\"Accuracy:\", metrics.accuracy_score(y_test, y_predict))\n",
        "  print(\"Recall score:\", metrics.recall_score(y_test, y_predict))\n",
        "  metrics.plot_confusion_matrix(optimalModel, X_test, y_test)\n",
        "  plt.show()\n",
        "  return metrics.accuracy_score(y_test, y_predict)"
      ],
      "execution_count": 141,
      "outputs": []
    },
    {
      "cell_type": "code",
      "metadata": {
        "colab": {
          "base_uri": "https://localhost:8080/",
          "height": 313
        },
        "id": "WSWoayexBCnD",
        "outputId": "774a23d9-ebff-4055-847a-1609f12463c8"
      },
      "source": [
        "# Make prediction on df_firstWindow\n",
        "acc_first = Estimator(df_firstWindow)"
      ],
      "execution_count": 142,
      "outputs": [
        {
          "output_type": "stream",
          "text": [
            "Accuracy: 0.6886792452830188\n",
            "Recall score: 0.6122448979591837\n"
          ],
          "name": "stdout"
        },
        {
          "output_type": "display_data",
          "data": {
            "image/png": "[encoded data removed]",
            "text/plain": [
              "<Figure size 432x288 with 2 Axes>"
            ]
          },
          "metadata": {
            "tags": [],
            "needs_background": "light"
          }
        }
      ]
    },
    {
      "cell_type": "code",
      "metadata": {
        "colab": {
          "base_uri": "https://localhost:8080/",
          "height": 313
        },
        "id": "R_BwSwIdCR6e",
        "outputId": "c41738dc-5b70-4a77-ea9a-1d93af752242"
      },
      "source": [
        "# Make prediction on df_firstTwoWindows\n",
        "acc_firstTwo = Estimator(df_firstTwoWindows)"
      ],
      "execution_count": 143,
      "outputs": [
        {
          "output_type": "stream",
          "text": [
            "Accuracy: 0.9458128078817734\n",
            "Recall score: 0.9325842696629213\n"
          ],
          "name": "stdout"
        },
        {
          "output_type": "display_data",
          "data": {
            "image/png": "[encoded data removed]",
            "text/plain": [
              "<Figure size 432x288 with 2 Axes>"
            ]
          },
          "metadata": {
            "tags": [],
            "needs_background": "light"
          }
        }
      ]
    },
    {
      "cell_type": "code",
      "metadata": {
        "colab": {
          "base_uri": "https://localhost:8080/",
          "height": 313
        },
        "id": "kr-cpJr0CnTI",
        "outputId": "774684a8-b41c-4f4f-896c-c7cdc602e1dd"
      },
      "source": [
        "# Make prediction on df_firstThreeWindows\n",
        "acc_firstThree = Estimator(df_firstThreeWindows)"
      ],
      "execution_count": 144,
      "outputs": [
        {
          "output_type": "stream",
          "text": [
            "Accuracy: 0.9409722222222222\n",
            "Recall score: 0.9067796610169492\n"
          ],
          "name": "stdout"
        },
        {
          "output_type": "display_data",
          "data": {
            "image/png": "[encoded data removed]",
            "text/plain": [
              "<Figure size 432x288 with 2 Axes>"
            ]
          },
          "metadata": {
            "tags": [],
            "needs_background": "light"
          }
        }
      ]
    },
    {
      "cell_type": "code",
      "metadata": {
        "colab": {
          "base_uri": "https://localhost:8080/",
          "height": 313
        },
        "id": "vrXvWRG6C0fc",
        "outputId": "f5f500ee-e6ce-477d-eec4-466817239753"
      },
      "source": [
        "# Make prediction on df_firstFourWindows\n",
        "acc_firstFour = Estimator(df_firstFourWindows)"
      ],
      "execution_count": 145,
      "outputs": [
        {
          "output_type": "stream",
          "text": [
            "Accuracy: 0.978021978021978\n",
            "Recall score: 0.9416058394160584\n"
          ],
          "name": "stdout"
        },
        {
          "output_type": "display_data",
          "data": {
            "image/png": "[encoded data removed]",
            "text/plain": [
              "<Figure size 432x288 with 2 Axes>"
            ]
          },
          "metadata": {
            "tags": [],
            "needs_background": "light"
          }
        }
      ]
    },
    {
      "cell_type": "code",
      "metadata": {
        "colab": {
          "base_uri": "https://localhost:8080/",
          "height": 282
        },
        "id": "UWMGx7djUZMn",
        "outputId": "8e80410d-6109-4c28-93f3-e6f73fa7d4c7"
      },
      "source": [
        "df8 = pd.DataFrame({\"Window Period\": [\"0-2\", \"0-4\", \"0-6\", \"6-12\"], \"Accuracy of Model\": [acc_first, acc_firstTwo, acc_firstThree, acc_firstFour]})\n",
        "df8\n",
        "plt.bar(df8[\"Window Period\"], df8[\"Accuracy of Model\"])"
      ],
      "execution_count": 146,
      "outputs": [
        {
          "output_type": "execute_result",
          "data": {
            "text/plain": [
              "<BarContainer object of 4 artists>"
            ]
          },
          "metadata": {
            "tags": []
          },
          "execution_count": 146
        },
        {
          "output_type": "display_data",
          "data": {
            "image/png": "[encoded data removed]",
            "text/plain": [
              "<Figure size 432x288 with 1 Axes>"
            ]
          },
          "metadata": {
            "tags": [],
            "needs_background": "light"
          }
        }
      ]
    }
  ]
}